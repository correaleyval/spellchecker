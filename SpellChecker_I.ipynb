{
 "cells": [
  {
   "cell_type": "markdown",
   "metadata": {},
   "source": [
    "El objetivo de este trabajo es desarrollar un corrector ortográfico para detección de errores por palabras utilizando métodos estadísticos para ordenar las sugerencias. A continuación expondré los planteamientos que me he realizado durante la creación del corrector y la explicación de la implementación realizada. Además se muestran algunos errores cometidos y como se han solucionado.\n",
    "\n",
    "**Objetivos:**\n",
    "\n",
    "- Detección de palabras erroneas (errores Non-Word)\n",
    "- Generación de sugerencias por transformaciones de caracteres en base a inserciones, eliminaciones, sustituciones y transposición.\n",
    "- Ordenar las sugerencias maximizando la probabilidad de la oración con el empleo de Modelos del Lenguaje."
   ]
  },
  {
   "cell_type": "markdown",
   "metadata": {},
   "source": [
    "### Detección de errores Non-word\n",
    "\n",
    "#### ¿Qué es un error Non-word?\n",
    "\n",
    "Los errores ortográficos, llamados Non-word, son detectados cuando una palabra no se localiza en un diccionario. Pueden producirse por equivocaciones al teclear, que sería un error tipográfico, o por problemas de conocimiento de las reglas de redacción y/o formación de palabras, que correspondería a un error cognitivo. A veces sucede que la palabra es correcta, pero no se encuentra en el diccionario con el que se está trabajando. En estos caso la palabra se sigue considerando un error.\n",
    "\n",
    "Los errores de carácter tipográfico se pueden diferenciar en 4 grupos, de acuerdo al error cometido:\n",
    "\n",
    "* Errores por sustitución de caracteres.\n",
    "* Errores por inserción de caracteres.\n",
    "* Errores por eliminación de caracteres"
   ]
  },
  {
   "cell_type": "markdown",
   "metadata": {},
   "source": [
    "### Cargando datos (CORPUS)\n",
    "\n",
    "Un **corpus** para este caso, es un conjunto amplio y estructurado de ejemplos reales del uso de la lengua. Estos ejemplos generalmente son textos, pueden ser noticias, artículos, historias, etc.\n",
    "\n",
    "Para la construcción de este corrector se cuenta con un CORPUS de 201 noticias de diversos temas, las cuales se garatiza que están escritas correctamente.\n",
    "\n",
    "Para facilitar la carga de los archivos se han almacenado en la carpeta CORPUS dentro de este directorio y se han nombrado enumerandolos del 1-201 con la extensión .txt.\n",
    "\n",
    "Ejemplo del contenido de un archivo:"
   ]
  },
  {
   "cell_type": "code",
   "execution_count": 1,
   "metadata": {},
   "outputs": [
    {
     "name": "stdout",
     "output_type": "stream",
     "text": [
      "﻿URL: https://rpp.pe/columnistas/francoisvallaeys/adios-religion-bienvenida-espiritualidad-noticia-1207163\n",
      "Periodista:\n",
      "Agencia:RPP NOTICIAS\n",
      "Fecha de entrada:10 de Julio del 2019 - 8:39 AM\n",
      "Título:¡Adiós religión, bienvenida espiritualidad!\n",
      "Tema:Religión\n",
      "Contenido:\n",
      "La moral es un sistema de control para la integración grupal, un decálogo explicativo impuesto para asemejar a los “buenos” y excluir a los “malos”. \n",
      "Suele ser muy mala con los individuos que quieren ser diferentes y genuinos, la más mínima desobediencia despierta su ira.\n",
      "Su definición del “bien” y del “mal” es ad hoc, dependiendo de los rasgos culturales del grupo y de la religión que lo funda.\n",
      "La ética es una liberación de la moral para interrogar libre y sensatamente qué ha de ser universalmente celebrado en la existencia. \n",
      "La \n"
     ]
    }
   ],
   "source": [
    "content = open('CORPUS/1.txt').read()\n",
    "\n",
    "print(content[:800])"
   ]
  },
  {
   "cell_type": "markdown",
   "metadata": {},
   "source": [
    "#### Limpieza de los datos\n",
    "\n",
    "Para conformar el corpus se procederá a almacenar el contenido de todos los ficheros en una sola variable que contendrá todos los textos pero solamente tomando la parte del contenido, o sea obviando datos como URL, Periodista, Agencia, etc.\n",
    "\n",
    "Con la siguiente instrucción se muestra como tomar solamente la parte de la noticia relacionada con el contenido."
   ]
  },
  {
   "cell_type": "code",
   "execution_count": 2,
   "metadata": {},
   "outputs": [
    {
     "data": {
      "text/plain": [
       "'\\nLa moral es un sistema de control para la integración grupal, un decálogo explicativo impuesto para asemejar a los “buenos” y excluir a los “malos”. \\nSuele ser muy mala con los individuos que quieren ser diferentes y genuinos, la más mínima desobedi'"
      ]
     },
     "execution_count": 2,
     "metadata": {},
     "output_type": "execute_result"
    }
   ],
   "source": [
    "contenido = open('CORPUS/1.txt').read().split('Contenido:')[-1]\n",
    "\n",
    "contenido[:250]"
   ]
  },
  {
   "cell_type": "code",
   "execution_count": 3,
   "metadata": {},
   "outputs": [],
   "source": [
    "text = ''\n",
    "\n",
    "for i in range(1, 202):\n",
    "    text += (open('CORPUS/{}.txt'.format(i)).read().split('Contenido:')[-1])"
   ]
  },
  {
   "cell_type": "code",
   "execution_count": 4,
   "metadata": {},
   "outputs": [
    {
     "name": "stdout",
     "output_type": "stream",
     "text": [
      "\n",
      "La moral es un sistema de control para la integración grupal, un decálogo explicativo impuesto para asemejar a los “buenos” y excluir a los “malos”. \n",
      "Suele ser muy mala con los individuos que quieren ser diferentes y genuinos, la más mínima desobedi\n"
     ]
    }
   ],
   "source": [
    "print(text[:250])"
   ]
  },
  {
   "cell_type": "markdown",
   "metadata": {},
   "source": [
    "Ahora procederemos a eliminar los saltos de línea y los espacios que se encuentran luego de un punto final. Además de agregar un símbolo de **.** al inicio del texto y eliminar algunos símbolos detectados en los textos que dificultan el trabajo con los mismos para la construcción de un *diccionario* y un *modelo del lenguaje*."
   ]
  },
  {
   "cell_type": "code",
   "execution_count": 5,
   "metadata": {},
   "outputs": [],
   "source": [
    "import re"
   ]
  },
  {
   "cell_type": "code",
   "execution_count": 6,
   "metadata": {},
   "outputs": [],
   "source": [
    "def clean_text(text):\n",
    "    text = re.sub(r'\\n', '. ', text)\n",
    "    text = re.sub(r'[{}@_*<>()\\\\#%+=\\[\\]ôà|è$–/—‘’«°º»”“&…∑⁄]', '', text)\n",
    "    text = re.sub('a0', '', text)\n",
    "    text = re.sub('\\'92t', '\\'t', text)\n",
    "    text = re.sub('\\'92s', '\\'s', text)\n",
    "    text = re.sub('\\'92m', '\\'m', text)\n",
    "    text = re.sub('\\'92ll', '\\'ll', text)\n",
    "    text = re.sub('\\'91', '', text)\n",
    "    text = re.sub('\\'92', '', text)\n",
    "    text = re.sub('\\'93', '', text)\n",
    "    text = re.sub('\\'94', '', text)\n",
    "    text = re.sub('\\uf0b7', '', text)\n",
    "    text = re.sub('\\uf0e0', '', text)\n",
    "    text = re.sub('\\u200e', '', text)\n",
    "    text = re.sub('\\ufeff', '', text)\n",
    "    text = re.sub('\\u200b', '', text)\n",
    "    text = re.sub('\\t', '', text)\n",
    "    text = re.sub('\\r', '', text)\n",
    "    text = re.sub('\\.', '. ', text)\n",
    "    text = re.sub('\\!', '! ', text)\n",
    "    text = re.sub('\\?', '? ', text)\n",
    "    text = re.sub(' +', ' ', text)\n",
    "    \n",
    "    return text\n",
    "\n",
    "text = clean_text(text)"
   ]
  },
  {
   "cell_type": "code",
   "execution_count": 7,
   "metadata": {},
   "outputs": [
    {
     "name": "stdout",
     "output_type": "stream",
     "text": [
      ". La moral es un sistema de control para la integración grupal, un decálogo explicativo impuesto para asemejar a los buenos y excluir a los malos. . Suele ser muy mala con los individuos que quieren ser diferentes y genuinos, la más mínima desobedien\n"
     ]
    }
   ],
   "source": [
    "print(text[:250])"
   ]
  },
  {
   "cell_type": "markdown",
   "metadata": {},
   "source": [
    "Este preprocesamiento de los datos nos va a permitir ahora remplazar los simbolos de **.** por un caracter especial **_** que nos permitirá conocer cuando una palabra se encuentra al inicio o al final de una oración cuando conformemos nuestro modelo del lenguaje que será explicado posteriormente. Para nuestro caso utilizaremos para modelar el lenguaje un *trigrama de palabra* por lo que cada símbolo de **.** será sustituido por dos símbolos de **_** separados por espacio."
   ]
  },
  {
   "cell_type": "code",
   "execution_count": 8,
   "metadata": {},
   "outputs": [
    {
     "name": "stdout",
     "output_type": "stream",
     "text": [
      " _ _  La moral es un sistema de control para la integración grupal, un decálogo explicativo impuesto para asemejar a los buenos y excluir a los malos _ _   _ _  Suele ser muy mala con los individuos que quieren ser diferentes y genuinos, la más mínima desobediencia despierta su ira _ _   _ _  Su definición del bien y del mal es ad hoc, dependiendo de los rasgos culturales del grupo y de la religión que lo funda _ _   _ _  La ética es una liberación de la moral para interrogar libre y sensatament\n"
     ]
    }
   ],
   "source": [
    "text = text.replace('.', ' _ _ ')\n",
    "\n",
    "print(text[:500])"
   ]
  },
  {
   "cell_type": "markdown",
   "metadata": {},
   "source": [
    "### Creación del deccionario y tokenización de las palabras\n",
    "\n",
    "En el siguiente paso procederemos a extraer del CORPUS todas las palabras, las cuales van a conformar nuestro diccionario y el vocabulario empleado en el modelo que se construirá posteriormente."
   ]
  },
  {
   "cell_type": "code",
   "execution_count": 9,
   "metadata": {},
   "outputs": [],
   "source": [
    "import numpy as np"
   ]
  },
  {
   "cell_type": "code",
   "execution_count": 10,
   "metadata": {},
   "outputs": [],
   "source": [
    "vocab = sorted(set(re.findall('[A-Za-z_áéíóúüñ]+', text)))"
   ]
  },
  {
   "cell_type": "code",
   "execution_count": 11,
   "metadata": {},
   "outputs": [
    {
     "name": "stdout",
     "output_type": "stream",
     "text": [
      "['A', 'AAA', 'ABT', 'ACN', 'ACV', 'AFP', 'AGR', 'AHS', 'AIN', 'ALBA', 'ALTA', 'AQU', 'AS', 'Abbas', 'Abel', 'Abela', 'Abelardo', 'Abierto', 'Abraham', 'Abreu', 'Abril', 'Abu', 'Abuelas', 'Academia', 'Accidente', 'Acción', 'Aceras', 'Acerca', 'Acinox', 'Acno', 'Acompañado', 'Acompañamos', 'Acoplados', 'Acosados', 'Acosta', 'Actualmente', 'Actúan', 'Acuario', 'Acuerdo', 'Adam', 'Adama', 'Adams', 'Adasme', 'Adelantó', 'Además', 'Adentro', 'Adicionalmente', 'Adislen', 'Administración', 'Admitió', 'Adolfo', 'Adquirió', 'Adriana', 'Aduana', 'Afganistán', 'Afortunadamente', 'Afrontamos', 'Age', 'Agencia', 'Agenda', 'Agradezco', 'Agregó', 'Agricultores', 'Agricultura', 'Agropecuario', 'Agropecuarios', 'Agua', 'Aguas', 'Aguilera', 'Aguirre', 'Agustín', 'Ahmed', 'Ahora', 'Ahumada', 'Ahí', 'Ailí', 'Aimée', 'Air', 'Aires', 'Airlines', 'Aissami', 'Ajedrez', 'Al', 'Alberto', 'Alejandro', 'Alejo', 'Alemania', 'Alembert', 'Alemán', 'Alerta', 'Alexander', 'Alexandria', 'Alfonso', 'Alfred', 'Algunos', 'Ali', 'Alianza', 'Alicia', 'Alimentación', 'Alimenticia']\n"
     ]
    }
   ],
   "source": [
    "print(vocab[:100])"
   ]
  },
  {
   "cell_type": "code",
   "execution_count": 12,
   "metadata": {},
   "outputs": [
    {
     "data": {
      "text/plain": [
       "12115"
      ]
     },
     "execution_count": 12,
     "metadata": {},
     "output_type": "execute_result"
    }
   ],
   "source": [
    "len(vocab)"
   ]
  },
  {
   "cell_type": "markdown",
   "metadata": {},
   "source": [
    "Como se puede apreciar tenemos una lista **vocab** con todas las palabras que aparecen en nuestro CORPUS ordenadas alfabeticamente. Se puede ver como se reconoce el caractér especial **_** como una palabra ya que este también formará parte del vocabulario que emplearemos para construir nuestro *modelo del lenguaje*.\n",
    "\n",
    "Con este paso ya podemos hacer la detección de errores Non-word con una simple instrucción."
   ]
  },
  {
   "cell_type": "code",
   "execution_count": 13,
   "metadata": {},
   "outputs": [
    {
     "data": {
      "text/plain": [
       "True"
      ]
     },
     "execution_count": 13,
     "metadata": {},
     "output_type": "execute_result"
    }
   ],
   "source": [
    "'Cuba' in vocab"
   ]
  },
  {
   "cell_type": "code",
   "execution_count": 14,
   "metadata": {},
   "outputs": [
    {
     "data": {
      "text/plain": [
       "False"
      ]
     },
     "execution_count": 14,
     "metadata": {},
     "output_type": "execute_result"
    }
   ],
   "source": [
    "'programming' in vocab"
   ]
  },
  {
   "cell_type": "markdown",
   "metadata": {},
   "source": [
    "Sin embargo como se ha dicho queremos además construir un *modelo del lenguaje*. Para facilitar la construcción de dicho modelo procederemos a tokenizar las palabras, para este caso en particular llamaremos tokenizar a asignarle un número a cada palabra según el orden en que aparecen en el diccionario, o sea asignarles un **id**."
   ]
  },
  {
   "cell_type": "code",
   "execution_count": 15,
   "metadata": {},
   "outputs": [],
   "source": [
    "word2id = {word:i for i, word in enumerate(vocab) }"
   ]
  },
  {
   "cell_type": "code",
   "execution_count": 16,
   "metadata": {},
   "outputs": [],
   "source": [
    "id2word = np.array(vocab)"
   ]
  },
  {
   "cell_type": "code",
   "execution_count": 17,
   "metadata": {},
   "outputs": [
    {
     "data": {
      "text/plain": [
       "686"
      ]
     },
     "execution_count": 17,
     "metadata": {},
     "output_type": "execute_result"
    }
   ],
   "source": [
    "cubaId = word2id['Cuba']\n",
    "cubaId"
   ]
  },
  {
   "cell_type": "code",
   "execution_count": 18,
   "metadata": {},
   "outputs": [
    {
     "data": {
      "text/plain": [
       "'Cuba'"
      ]
     },
     "execution_count": 18,
     "metadata": {},
     "output_type": "execute_result"
    }
   ],
   "source": [
    "id2word[cubaId]"
   ]
  },
  {
   "cell_type": "markdown",
   "metadata": {},
   "source": [
    "Ahora contamos con un método para detectar si una palabra se encuentra en nuestro vocabulario, un método para convertir una palabra en un entero **id** y además realizar la operación inversa.\n",
    "\n",
    "Hasta aquí esta primera parte, en el próximo artículo comenzaremos con las construcción del modelo del lenguaje."
   ]
  }
 ],
 "metadata": {
  "kernelspec": {
   "display_name": "Python 3",
   "language": "python",
   "name": "python3"
  },
  "language_info": {
   "codemirror_mode": {
    "name": "ipython",
    "version": 3
   },
   "file_extension": ".py",
   "mimetype": "text/x-python",
   "name": "python",
   "nbconvert_exporter": "python",
   "pygments_lexer": "ipython3",
   "version": "3.7.4"
  }
 },
 "nbformat": 4,
 "nbformat_minor": 4
}
