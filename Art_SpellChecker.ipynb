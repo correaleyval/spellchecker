{
 "cells": [
  {
   "cell_type": "markdown",
   "metadata": {},
   "source": [
    "En los primeros artículos de este blog nos propusimos desarrollar un corrector ortográfico para la detección de errores del tipo non-word con el objetivo de iniciarnos en el estudio del **procesamiento del lenuaje natural**. Escribimos parte del código necesario para el cumplimiento de las principales tareas que nos fuimos planteando como: la **carga de datos** desde un **CORPUS** para construir un **modelo del lenguaje** y emplear métodos estadísticos para la generación de sugerencias.\n",
    "\n",
    "Después de recibir feedback de varios de los lectores y profundizar un poco más (solo un poco) en las técnicas empleadas para la creación de correctores ortográficos, finalmente tenemos toda la implementación completa de nuestro **corrector ortográfico estadístico**.\n",
    "\n",
    "Para esta implementación nos proponemos construir dos modelos del lenguaje, un modelo basado en trigramas de palabras y otro modelo basado en trigramas de etiquetas morfológicas. El objetivo que se persigue con esta nueva implementación (además del objetivo de aprender) es dotar a nuestro corrector ortográfico de mayor exactitud en el momento de mostrar las sugerencias de corrección, ya que un modelo que utilice etiquetas morfológicas nos permitirá calcular la probabilidad de ocurrencia de una palabra dadas las anteriores a ella pero esta vez basado en las características de dicha palabra, ej: si es un sustantivo, adjetivo, verbo, etc..; o si se encuentra en modo **plural/singular**, **masculino/femenino**. Entre otras características que son extraídas por los analizadores morfológicos.\n",
    "\n",
    "### Análisis morfológico\n",
    "\n",
    "Por definición el **análisis morfológico** es el conjunto de técnicas que permiten procesar una unidad léxica y establecer una relación entre ésta y el conjunto de rasgos morfológicos que la caracterizan.\n",
    "\n",
    "Ejemplo, rasgos morfológicos de los sustantivos comunes (español):\n",
    "\n",
    "* Lexema (raíz) y/o forma canónica (lema)\n",
    "* Género: masculino, femenino\n",
    "* Número: singular, plural\n",
    "* Registro: normal, diminutivo, aumentativo, despectivo\n",
    "\n",
    "Por ejemplo para la palabra **camino** tenemos los siguientes rasgos morfológicos:\n",
    "\n",
    "* Categoría gramatical: sustantivo\n",
    "* Lexema: camin-\n",
    "* Lema: camino\n",
    "* Género: masculino\n",
    "* Número: singular\n",
    "* Registro: normal\n",
    "\n",
    "El conjunto de rasgos morfológicos dependen de la categoría gramatical, por ejemplo la palabra **camino** también puede analizarse tomándola como un verbo en lugar de un sustantivo:\n",
    "\n",
    "* Categoría gramatical: verbo\n",
    "* Lexema: camin-\n",
    "* Lema: caminar\n",
    "* Forma: personal\n",
    "* Modo: indicativo\n",
    "* Tiempo: presente\n",
    "* Persona: primera\n",
    "* Número: singular\n",
    "\n",
    "Para la realización de este proyecto no profundizaremos en como se implementan estos analizadores, en lugar de eso nos valdremos de **spaCy**."
   ]
  },
  {
   "cell_type": "markdown",
   "metadata": {},
   "source": [
    "#### spaCy\n",
    "\n",
    "**spaCy** es una biblioteca (librería) de código abierto para realizar tareas de procesamiento del lenguaje natural utilizando Python como lenguaje de programación. Está diseñada específicamente para entornos de producción permitiéndonos construir aplicaciones que procesen grandes volúmenes de texto de manera rápida y eficiente. \n",
    "\n",
    "**Nota**: Inicialmente se había escogido **StanfordNLP** para realizar esta tarea pero demoraba mucho tiempo realizar el etiquetado morfológico de todo el CORPUS; buscando una manera más eficiente de realizar esto fué como llegamos a **spaCy** el cuál mostró un rendimiento considerablemente mayor en cuanto a tiempo de etiquetado. No se pretende establecer una comparación entre ambas bibliotecas pero es bueno señalar que **spaCy** ha sido diseñada especialmente para tener un excelente rendimiento siendo utilizada con Python.\n",
    "\n",
    "##### Instalando spaCy\n",
    "\n",
    "```bash\n",
    "pip install spacy\n",
    "python -m spacy download es\n",
    "```\n",
    "\n",
    "Con estas instrucciones instalamos spaCy y descargamos los archivos necesarios para trabajar con el idioma Español."
   ]
  },
  {
   "cell_type": "code",
   "execution_count": 1,
   "metadata": {},
   "outputs": [
    {
     "name": "stdout",
     "output_type": "stream",
     "text": [
      "CPU times: user 607 ms, sys: 118 ms, total: 725 ms\n",
      "Wall time: 10 s\n"
     ]
    }
   ],
   "source": [
    "%%time\n",
    "import spacy\n",
    "from spacy.tokens import Doc\n",
    "from spacy.vocab import Vocab"
   ]
  },
  {
   "cell_type": "markdown",
   "metadata": {},
   "source": [
    "Una vez instalado **spacy** comenzaremos con la carga de nuestros datos."
   ]
  },
  {
   "cell_type": "code",
   "execution_count": 2,
   "metadata": {},
   "outputs": [],
   "source": [
    "def preclean_text(text):\n",
    "    text = text.replace('\\n', '')\n",
    "    text = '_ _ ' + text.replace('.', '. _ _ ')\n",
    "    text = text.replace('  ', ' ')\n",
    "    \n",
    "    return text"
   ]
  },
  {
   "cell_type": "code",
   "execution_count": 3,
   "metadata": {},
   "outputs": [
    {
     "name": "stdout",
     "output_type": "stream",
     "text": [
      "CPU times: user 21.2 ms, sys: 12.7 ms, total: 33.9 ms\n",
      "Wall time: 33.6 ms\n"
     ]
    },
    {
     "data": {
      "text/plain": [
       "'_ _ La moral es un sistema de control para la integración grupal, un decálogo explicativo impuesto para asemejar a los “buenos” y excluir a los “malos”. _ _ Suele ser muy mala con los individuos que quieren ser diferentes y genuinos, la más mínima desobediencia despierta su ira. _ _ Su definición del “bien” y del “mal” es ad hoc, dependiendo de los rasgos culturales del grupo y de la religión que lo funda. _ _ La ética es una liberación de la moral para interrogar libre y sensatamente qué ha de ser universalmente celebrado en la existencia. _ _ La ética no explica nada, interroga desde la sed de universalidad, y crea personas autónomas, capaces de crear nuevas maneras de coexistir, sin imposición. _ _ Desde luego, la ética es un acontecimiento escaso, improbable y frágil. _ _ Es para los desobedientes, como Jesús, Gandhi, Mandela. _ _ La moral detesta la ética. _ _ La ética mira a la moral con tristeza, le da pena su dogmatismo y su violencia familiar. _ _ Del mismo modo, las religione'"
      ]
     },
     "execution_count": 3,
     "metadata": {},
     "output_type": "execute_result"
    }
   ],
   "source": [
    "%%time\n",
    "textcorpus = ''\n",
    "\n",
    "for i in range(1, 203):\n",
    "    textcorpus += (open('CORPUS/{}.txt'.format(i)).read().split('Contenido:')[-1])\n",
    "    \n",
    "textcorpus = preclean_text(textcorpus)\n",
    "\n",
    "textcorpus[:1000]"
   ]
  },
  {
   "cell_type": "markdown",
   "metadata": {},
   "source": [
    "Con el código anterior hemos cargado y pre-procesado todo el contenido de nuestro CORPUS el cuál recordemos que está compuesto por artículos de noticias, esta vez como una característica extra para nuestro CORPUS se decidió incluir además un clásico de la lengua española: **DON QUIJOTE DE LA MANCHA** de Miguel de Cervantes. Comprobamos que el CORPUS que teníamos inicialmente no dotaba a nuestros modelos del lenguaje de suficiente \"conocimiento de la lengua\" por lo que se decidió agregar un texto que abarcara un vocabulario más amplio."
   ]
  },
  {
   "cell_type": "markdown",
   "metadata": {},
   "source": [
    "### Etiquetado morfológico del texto utilizando spaCy\n",
    "\n",
    "Comenzaremos cargando los modelos de spaCy para el procesamiento de español"
   ]
  },
  {
   "cell_type": "code",
   "execution_count": 4,
   "metadata": {},
   "outputs": [
    {
     "name": "stdout",
     "output_type": "stream",
     "text": [
      "CPU times: user 16.2 s, sys: 678 ms, total: 16.9 s\n",
      "Wall time: 19.4 s\n"
     ]
    }
   ],
   "source": [
    "%%time\n",
    "nlp = spacy.load('es_core_news_md')\n",
    "nlp.max_length = 2000000"
   ]
  },
  {
   "cell_type": "markdown",
   "metadata": {},
   "source": [
    "En la instrucción anteriór además hemos incrementado el número máximo de palabras que pueden ser procesadas por **spaCy** debido a que con la cantidad que viene definida por defecto no es suficiente para procesar todo nuestro CORPUS."
   ]
  },
  {
   "cell_type": "markdown",
   "metadata": {},
   "source": [
    "A continuación procesamos el texto realizando el etiquetado morfológico de las palabras."
   ]
  },
  {
   "cell_type": "code",
   "execution_count": 5,
   "metadata": {},
   "outputs": [
    {
     "name": "stdout",
     "output_type": "stream",
     "text": [
      "CPU times: user 48.6 s, sys: 12.1 s, total: 1min\n",
      "Wall time: 1min 6s\n"
     ]
    }
   ],
   "source": [
    "%%time\n",
    "doc = nlp(textcorpus)\n",
    "doc.vocab.to_disk('corpus_vocab')\n",
    "doc.to_disk('corpus_doc')\n",
    "del doc"
   ]
  },
  {
   "cell_type": "markdown",
   "metadata": {},
   "source": [
    "Como se puede apreciar el tiempo que demora realizar el etiquetado morfológico es considerablemente alto por esta razón es que empleamos la función `to_disk` que nos permite almacenar en disco el vocabulario y todo el documento generado por **spaCy** con el etiquetado morfológio de las palabras. Esto nos permite cargar estos datos ya procesados desde el disco en un tiempo mucho menor."
   ]
  },
  {
   "cell_type": "code",
   "execution_count": 6,
   "metadata": {},
   "outputs": [
    {
     "name": "stdout",
     "output_type": "stream",
     "text": [
      "CPU times: user 12.4 s, sys: 693 ms, total: 13.1 s\n",
      "Wall time: 13.2 s\n"
     ]
    }
   ],
   "source": [
    "%%time\n",
    "vocab = Vocab().from_disk('corpus_vocab')\n",
    "doc = Doc(vocab).from_disk('corpus_doc')"
   ]
  },
  {
   "cell_type": "markdown",
   "metadata": {},
   "source": [
    "Ahora veamos que nos devuelve **spaCy**. Comencemos por leer la primera oración de nuestro CORPUS."
   ]
  },
  {
   "cell_type": "code",
   "execution_count": 7,
   "metadata": {},
   "outputs": [
    {
     "data": {
      "text/plain": [
       "_ _ La moral es un sistema de control para la integración grupal, un decálogo explicativo impuesto para asemejar a los “buenos” y excluir a los “malos”."
      ]
     },
     "execution_count": 7,
     "metadata": {},
     "output_type": "execute_result"
    }
   ],
   "source": [
    "[sent for sent in doc.sents][0]"
   ]
  },
  {
   "cell_type": "markdown",
   "metadata": {},
   "source": [
    "En `doc.sents` tenemos una lista de todas nuestras oraciones. Sin embargo spaCy no nos devuelve en esta lista la oración como tal sino un iterador, para obtener la lista de oraciones podemos crear nuestra propia lista de la siguiente manera:"
   ]
  },
  {
   "cell_type": "code",
   "execution_count": 8,
   "metadata": {},
   "outputs": [],
   "source": [
    "sentences = [sent for sent in doc.sents]"
   ]
  },
  {
   "cell_type": "markdown",
   "metadata": {},
   "source": [
    "Y acceder a cada oración utilizando el método de indexado tradicional."
   ]
  },
  {
   "cell_type": "code",
   "execution_count": 9,
   "metadata": {},
   "outputs": [
    {
     "data": {
      "text/plain": [
       "_ _ La moral es un sistema de control para la integración grupal, un decálogo explicativo impuesto para asemejar a los “buenos” y excluir a los “malos”."
      ]
     },
     "execution_count": 9,
     "metadata": {},
     "output_type": "execute_result"
    }
   ],
   "source": [
    "sentences[0]"
   ]
  },
  {
   "cell_type": "markdown",
   "metadata": {},
   "source": [
    "Igualmente para las palabras"
   ]
  },
  {
   "cell_type": "code",
   "execution_count": 10,
   "metadata": {},
   "outputs": [
    {
     "data": {
      "text/plain": [
       "moral"
      ]
     },
     "execution_count": 10,
     "metadata": {},
     "output_type": "execute_result"
    }
   ],
   "source": [
    "sentences[0][3]"
   ]
  },
  {
   "cell_type": "markdown",
   "metadata": {},
   "source": [
    "Ahora cada una de las palabras de nuestro texto además están etiquetadas morfológicamente:"
   ]
  },
  {
   "cell_type": "code",
   "execution_count": 11,
   "metadata": {},
   "outputs": [
    {
     "data": {
      "text/plain": [
       "'moral'"
      ]
     },
     "execution_count": 11,
     "metadata": {},
     "output_type": "execute_result"
    }
   ],
   "source": [
    "sentences[0][3].lemma_"
   ]
  },
  {
   "cell_type": "code",
   "execution_count": 12,
   "metadata": {},
   "outputs": [
    {
     "data": {
      "text/plain": [
       "'NOUN__Gender=Fem|Number=Sing'"
      ]
     },
     "execution_count": 12,
     "metadata": {},
     "output_type": "execute_result"
    }
   ],
   "source": [
    "sentences[0][3].tag_"
   ]
  },
  {
   "cell_type": "markdown",
   "metadata": {},
   "source": [
    "El uso del `_` al final del nombre del atributo que queremos consultar nos permite leer el valor del atributo, si omitimos esto nos devolverá un **id** que es asignado internamente por la biblioteca."
   ]
  },
  {
   "cell_type": "markdown",
   "metadata": {},
   "source": [
    "### Extrayendo trigramas para la construcción de los modelos"
   ]
  },
  {
   "cell_type": "code",
   "execution_count": 13,
   "metadata": {},
   "outputs": [
    {
     "data": {
      "text/plain": [
       "_"
      ]
     },
     "execution_count": 13,
     "metadata": {},
     "output_type": "execute_result"
    }
   ],
   "source": [
    "doc[0]"
   ]
  },
  {
   "cell_type": "code",
   "execution_count": 14,
   "metadata": {},
   "outputs": [],
   "source": [
    "offset = doc[0]"
   ]
  },
  {
   "cell_type": "markdown",
   "metadata": {},
   "source": [
    "La instruccion anterior nos permiten obtener el caracter `_` con su etiquetado correspondiete para ser utilizado como caracter de relleno en la extracción de nuestros trigramas. En caso que la cantidad de palabras de una oración no se un múltiplo de tres se completarán los caracteres que falten con `_`."
   ]
  },
  {
   "cell_type": "code",
   "execution_count": 15,
   "metadata": {},
   "outputs": [],
   "source": [
    "def get_trigrams(sentences):\n",
    "    # Lista para almacenar los trigramas\n",
    "    trigrams = []\n",
    "    tag_trigrams = []\n",
    "    \n",
    "    # Recorrer la lista de palabras\n",
    "    for sent in sentences:\n",
    "        for i, _ in enumerate(sent):\n",
    "            try:\n",
    "                w1, w2, w3 = sent[i:i+3]\n",
    "            except:\n",
    "                try:\n",
    "                    w1, w2 = sent[i:i+2]\n",
    "                    w3 = offset\n",
    "                except:\n",
    "                    w1 = sent[i]\n",
    "                    w2 = w3 = offset\n",
    "            \n",
    "            # Agregar trigrama a la lista\n",
    "            trigrams.append((w1.text, w2.text, w3.text))\n",
    "            \n",
    "            tag_trigrams.append((\n",
    "                w1.tag_,\n",
    "                w2.tag_,\n",
    "                w3.tag_\n",
    "            ))\n",
    "    \n",
    "    return trigrams, tag_trigrams"
   ]
  },
  {
   "cell_type": "markdown",
   "metadata": {},
   "source": [
    "Esta función hace un recorrido por todo el documento extrayendo y almacenando en una lista tanto los trigramas de palabras como los trigramas de etiquetas.\n",
    "\n",
    "La siguiente función realiza la misma tarea pero esta vez solo extrayendo los trigramas de palabras, esta función nos será útil posteriormente para la tarea de corrección."
   ]
  },
  {
   "cell_type": "code",
   "execution_count": 16,
   "metadata": {},
   "outputs": [],
   "source": [
    "def get_word_trigrams(sentences):\n",
    "    # Lista para almacenar los trigramas\n",
    "    trigrams = []\n",
    "    \n",
    "    # Recorrer la lista de palabras\n",
    "    for sent in sentences:\n",
    "        for i, _ in enumerate(sent):\n",
    "            try:\n",
    "                w1, w2, w3 = sent[i:i+3]\n",
    "            except:\n",
    "                try:\n",
    "                    w1, w2 = sent[i:i+2]\n",
    "                    w3 = offset\n",
    "                except:\n",
    "                    w1 = sent[i]\n",
    "                    w2 = w3 = offset\n",
    "            \n",
    "            # Agregar trigrama a la lista\n",
    "            trigrams.append((w1.text, w2.text, w3.text))\n",
    "    \n",
    "    return trigrams"
   ]
  },
  {
   "cell_type": "markdown",
   "metadata": {},
   "source": [
    "Y a continuación procedemos con obtener nuestras listas de trigramas."
   ]
  },
  {
   "cell_type": "code",
   "execution_count": 17,
   "metadata": {},
   "outputs": [
    {
     "name": "stdout",
     "output_type": "stream",
     "text": [
      "CPU times: user 2.27 s, sys: 73.8 ms, total: 2.34 s\n",
      "Wall time: 2.34 s\n"
     ]
    }
   ],
   "source": [
    "%%time\n",
    "word_trigrams, tag_trigrams = get_trigrams(doc.sents)"
   ]
  },
  {
   "cell_type": "code",
   "execution_count": 18,
   "metadata": {},
   "outputs": [
    {
     "data": {
      "text/plain": [
       "[('_', '_', 'La'),\n",
       " ('_', 'La', 'moral'),\n",
       " ('La', 'moral', 'es'),\n",
       " ('moral', 'es', 'un'),\n",
       " ('es', 'un', 'sistema'),\n",
       " ('un', 'sistema', 'de'),\n",
       " ('sistema', 'de', 'control'),\n",
       " ('de', 'control', 'para'),\n",
       " ('control', 'para', 'la'),\n",
       " ('para', 'la', 'integración')]"
      ]
     },
     "execution_count": 18,
     "metadata": {},
     "output_type": "execute_result"
    }
   ],
   "source": [
    "word_trigrams[:10]"
   ]
  },
  {
   "cell_type": "code",
   "execution_count": 19,
   "metadata": {},
   "outputs": [
    {
     "data": {
      "text/plain": [
       "[('PROPN___',\n",
       "  'PROPN___',\n",
       "  'DET__Definite=Def|Gender=Fem|Number=Sing|PronType=Art'),\n",
       " ('PROPN___',\n",
       "  'DET__Definite=Def|Gender=Fem|Number=Sing|PronType=Art',\n",
       "  'NOUN__Gender=Fem|Number=Sing'),\n",
       " ('DET__Definite=Def|Gender=Fem|Number=Sing|PronType=Art',\n",
       "  'NOUN__Gender=Fem|Number=Sing',\n",
       "  'AUX__Mood=Ind|Number=Sing|Person=3|Tense=Pres|VerbForm=Fin'),\n",
       " ('NOUN__Gender=Fem|Number=Sing',\n",
       "  'AUX__Mood=Ind|Number=Sing|Person=3|Tense=Pres|VerbForm=Fin',\n",
       "  'DET__Definite=Ind|Gender=Masc|Number=Sing|PronType=Art'),\n",
       " ('AUX__Mood=Ind|Number=Sing|Person=3|Tense=Pres|VerbForm=Fin',\n",
       "  'DET__Definite=Ind|Gender=Masc|Number=Sing|PronType=Art',\n",
       "  'NOUN__Gender=Masc|Number=Sing'),\n",
       " ('DET__Definite=Ind|Gender=Masc|Number=Sing|PronType=Art',\n",
       "  'NOUN__Gender=Masc|Number=Sing',\n",
       "  'ADP__AdpType=Prep'),\n",
       " ('NOUN__Gender=Masc|Number=Sing',\n",
       "  'ADP__AdpType=Prep',\n",
       "  'NOUN__Gender=Masc|Number=Sing'),\n",
       " ('ADP__AdpType=Prep', 'NOUN__Gender=Masc|Number=Sing', 'ADP__AdpType=Prep'),\n",
       " ('NOUN__Gender=Masc|Number=Sing',\n",
       "  'ADP__AdpType=Prep',\n",
       "  'DET__Definite=Def|Gender=Fem|Number=Sing|PronType=Art'),\n",
       " ('ADP__AdpType=Prep',\n",
       "  'DET__Definite=Def|Gender=Fem|Number=Sing|PronType=Art',\n",
       "  'NOUN__Gender=Fem|Number=Sing')]"
      ]
     },
     "execution_count": 19,
     "metadata": {},
     "output_type": "execute_result"
    }
   ],
   "source": [
    "tag_trigrams[:10]"
   ]
  },
  {
   "cell_type": "markdown",
   "metadata": {},
   "source": [
    "### Construccón del modelo"
   ]
  },
  {
   "cell_type": "code",
   "execution_count": 20,
   "metadata": {},
   "outputs": [],
   "source": [
    "def build_model(trigrams):\n",
    "    model = {}\n",
    "    \n",
    "    # Contamos la frecuencia de co-ocurrencia\n",
    "    for i, _ in enumerate(trigrams):\n",
    "        w1, w2, w3 = trigrams[i]\n",
    "    \n",
    "        # El control de excepciones se encarga de manejar los distintos casos \n",
    "        # en que un trigrama aún no ha sido registrado.\n",
    "        try:\n",
    "            model[w1, w2][w3] += 1\n",
    "        except: # Aqui se asume que w3 lanza la excepcion\n",
    "            try:\n",
    "                model[w1, w2][w3] = 1\n",
    "            except: # Aqui se asume que el par (w1, w2) lanza la excepcion\n",
    "                model[w1, w2] = {w3:1}\n",
    "            \n",
    "    # Ahora transformamos el conteo en probabilidades\n",
    "    for w1_w2 in model:\n",
    "        total_count = float(sum(model[w1_w2].values()))\n",
    "    \n",
    "        for w3 in model[w1_w2]:\n",
    "            model[w1_w2][w3] /= total_count\n",
    "            \n",
    "    return model"
   ]
  },
  {
   "cell_type": "markdown",
   "metadata": {},
   "source": [
    "Las instrucciones anteriores lo que hacen es recorrer nuestra lista de trigramas e ir extrayendo cada uno de los que lo conforman. El diccionario que utilizamos como estructura de datos almacenará como llave los dos primeros elementos del trigrama y como valor un nuevo diccionario que tendrá como llave el tercer elemento del trigrama y como valor el número de veces que se repite el trigrama.\n",
    "\n",
    "La primera instrucción `model[w1, w2][w3] += 1` asume que ya el trigrama completo ha sido registrado en cuyo caso solo es necesario aumentar el contador, en caso contrario se lanza una excepción y se procede a ejecutar la siguiente instrucción: `model[w1, w2][w3] = 1`, esta instrucción asume que se ha registrado ya una llave `(w1,w2)` para el primer diccionario, en este caso se procede a registrar la llave `w3` para el segundo diccionario y se inicializa su valor 1 indicando que es primera vez que se registra el trigrama. En caso de que no se hallan registrado ninguna de las llaves para ninguno de los dos diccionarios se lanzará nuevamente una excepción y se procede a registrar ambas llaves y a inicializar su valor igualmente con 1 utilizando la instrucción: `model[w1, w2] = {w3:1}`"
   ]
  },
  {
   "cell_type": "markdown",
   "metadata": {},
   "source": [
    "Con el último ciclo lo que hacemos es obtener las probabilidades de ocurrencia de cada trigrama. Recorando la hipotesis markoviana $P(w_n|w_1^{n-1})$ se puede estimar como $P(w_n|w_{n-2}^{n-1})$.\n",
    "\n",
    "Nuestro objetivo con la construcción de este modelo es poder decir dados dos elementos ya sean palabras o etiquetas gramaticales cuál es la probabilidad de ocurrencia de un tercero. Probabilidad que será utlizada por nuestro corrector para ordenar las sugerencias generadas."
   ]
  },
  {
   "cell_type": "code",
   "execution_count": 21,
   "metadata": {},
   "outputs": [
    {
     "name": "stdout",
     "output_type": "stream",
     "text": [
      "CPU times: user 472 ms, sys: 26.6 ms, total: 499 ms\n",
      "Wall time: 498 ms\n"
     ]
    }
   ],
   "source": [
    "%%time\n",
    "word_model = build_model(word_trigrams)"
   ]
  },
  {
   "cell_type": "code",
   "execution_count": 22,
   "metadata": {},
   "outputs": [
    {
     "name": "stdout",
     "output_type": "stream",
     "text": [
      "CPU times: user 261 ms, sys: 264 µs, total: 261 ms\n",
      "Wall time: 260 ms\n"
     ]
    }
   ],
   "source": [
    "%%time\n",
    "tag_model = build_model(tag_trigrams)"
   ]
  },
  {
   "cell_type": "code",
   "execution_count": 23,
   "metadata": {},
   "outputs": [
    {
     "data": {
      "text/plain": [
       "126530"
      ]
     },
     "execution_count": 23,
     "metadata": {},
     "output_type": "execute_result"
    }
   ],
   "source": [
    "len(word_model)"
   ]
  },
  {
   "cell_type": "code",
   "execution_count": 24,
   "metadata": {},
   "outputs": [
    {
     "data": {
      "text/plain": [
       "9064"
      ]
     },
     "execution_count": 24,
     "metadata": {},
     "output_type": "execute_result"
    }
   ],
   "source": [
    "len(tag_model)"
   ]
  },
  {
   "cell_type": "markdown",
   "metadata": {},
   "source": [
    "Y así finalmente tenemos construido nuestros modelos del lenguaje.\n",
    "\n",
    "Ahora por ejemplo determinemos cual es la probabilidad del siguiente trigrama extraído del corpus:\n",
    "\n",
    "    aquellos caballeros andantes"
   ]
  },
  {
   "cell_type": "code",
   "execution_count": 25,
   "metadata": {},
   "outputs": [
    {
     "data": {
      "text/plain": [
       "0.5"
      ]
     },
     "execution_count": 25,
     "metadata": {},
     "output_type": "execute_result"
    }
   ],
   "source": [
    "sentence = \"aquellos caballeros andantes\"\n",
    "\n",
    "w1, w2, w3 = sentence.split()\n",
    "\n",
    "word_model[w1, w2][w3]"
   ]
  },
  {
   "cell_type": "markdown",
   "metadata": {},
   "source": [
    "Igualmente podemos realizar esta operación pero para las etiquetas morfológicas, más adelante veremos como realizar esta tarea pero definiremos formalmente que la probabilidad de ocurrencia de un trigrama será la multiplicación de la probabilidad devuelta por `word_model` y `tag_model`. De esta manera estamos tomando tanto en cuenta la probabilidad de ocurrencia por palabras como por etiquetas morfológicas."
   ]
  },
  {
   "cell_type": "markdown",
   "metadata": {},
   "source": [
    "Con la siguientes instrucciones obtendremos las probabilidades más bajas de nuestros modelos para utilizarlas como proababilidad por defecto para el caso en que se intente buscar en nuestro modelo un trigrama que no se encuentra en nuestro CORPUS y por tanto no está contemplado en los modelos (*Problema de las probabilidades nulas*)"
   ]
  },
  {
   "cell_type": "code",
   "execution_count": 26,
   "metadata": {},
   "outputs": [
    {
     "name": "stdout",
     "output_type": "stream",
     "text": [
      "CPU times: user 43 ms, sys: 0 ns, total: 43 ms\n",
      "Wall time: 42.8 ms\n"
     ]
    },
    {
     "data": {
      "text/plain": [
       "0.00016477179106936892"
      ]
     },
     "execution_count": 26,
     "metadata": {},
     "output_type": "execute_result"
    }
   ],
   "source": [
    "%%time\n",
    "word_min = 1\n",
    "\n",
    "for i in word_model.values():\n",
    "    for ii in i.values():\n",
    "        if ii < word_min:\n",
    "            word_min = ii\n",
    "            \n",
    "word_min"
   ]
  },
  {
   "cell_type": "code",
   "execution_count": 27,
   "metadata": {},
   "outputs": [
    {
     "name": "stdout",
     "output_type": "stream",
     "text": [
      "CPU times: user 6.91 ms, sys: 44 µs, total: 6.96 ms\n",
      "Wall time: 6.8 ms\n"
     ]
    },
    {
     "data": {
      "text/plain": [
       "7.216048491845865e-05"
      ]
     },
     "execution_count": 27,
     "metadata": {},
     "output_type": "execute_result"
    }
   ],
   "source": [
    "%%time\n",
    "tag_min = 1\n",
    "\n",
    "for i in tag_model.values():\n",
    "    for ii in i.values():\n",
    "        if ii < tag_min:\n",
    "            tag_min = ii\n",
    "            \n",
    "tag_min"
   ]
  },
  {
   "cell_type": "markdown",
   "metadata": {},
   "source": [
    "### Generación de sugerencias por transformaciones de caracteres\n",
    "\n",
    "Una **edición simple** de una palabra es una eliminación (eliminar una letra), una transposición (intercambiar dos letras adyacentes), un reemplazo (cambiar una letra por otra), o un inserción (agregar una letra). La siguiente función nos devuelve un conjunto de todas las cadenas editadas (ya sean palabras del lenguaje o no) que se pueden hacer con una edición simple:"
   ]
  },
  {
   "cell_type": "code",
   "execution_count": 28,
   "metadata": {},
   "outputs": [],
   "source": [
    "def edits1(word):\n",
    "    \"Distancia de edición 1\"\n",
    "    letters = 'abcdefghijklmnñopqrstuvwxyzáéíóú'\n",
    "    \n",
    "    splits = [(word[:i], word[i:]) for i in range(len(word) + 1)]\n",
    "    \n",
    "    deletes = [L + R[1:] for L, R in splits if R]\n",
    "    \n",
    "    transposes = [L + R[1] + R[0] + R[2:] for L, R in splits if len(R)>1]\n",
    "    \n",
    "    replaces = [L +  C + R[1:] for L, R in splits if R for C in letters]\n",
    "    \n",
    "    inserts = [L + C + R for L, R in splits for C in letters]\n",
    "    \n",
    "    return set(deletes + transposes + replaces + inserts)"
   ]
  },
  {
   "cell_type": "markdown",
   "metadata": {},
   "source": [
    "La siguiente función lo que hace es realizar ediciones simples sobre las ediciones ya realizadas por la función anterior, o sea nos devuelve las palabras que se pueden obtener a partir de dos ediciones simples."
   ]
  },
  {
   "cell_type": "code",
   "execution_count": 29,
   "metadata": {},
   "outputs": [],
   "source": [
    "def edits2(word):\n",
    "    return (e2 for e1 in edits1(word) for e2 in edits1(e1))"
   ]
  },
  {
   "cell_type": "markdown",
   "metadata": {},
   "source": [
    "Estas funciones nos devuelven un conjunto inmenso de palabras sin embargo nuestro objetivo es obtener palabras que pertenezcan al lenguaje, para esto nos valdremos de un diccionario, la siguiente función nos devuelve el conjunto de todas las palabras existentes en nuestro CORPUS."
   ]
  },
  {
   "cell_type": "code",
   "execution_count": 30,
   "metadata": {},
   "outputs": [],
   "source": [
    "def get_dictionary():\n",
    "    return set([w.text for w in doc])"
   ]
  },
  {
   "cell_type": "code",
   "execution_count": 31,
   "metadata": {},
   "outputs": [
    {
     "name": "stdout",
     "output_type": "stream",
     "text": [
      "CPU times: user 314 ms, sys: 6.94 ms, total: 321 ms\n",
      "Wall time: 321 ms\n"
     ]
    }
   ],
   "source": [
    "%%time\n",
    "dictionary = get_dictionary()"
   ]
  },
  {
   "cell_type": "code",
   "execution_count": 32,
   "metadata": {},
   "outputs": [
    {
     "data": {
      "text/plain": [
       "26465"
      ]
     },
     "execution_count": 32,
     "metadata": {},
     "output_type": "execute_result"
    }
   ],
   "source": [
    "len(dictionary)"
   ]
  },
  {
   "cell_type": "markdown",
   "metadata": {},
   "source": [
    "Ahora procederemos a implementar una función a la que le daremos como parámetro la lista de palabras generada por nuestras funciones de edición y nos devolvera un conjunto con las palabras de esa lista que sí pertenecen al lenguaje."
   ]
  },
  {
   "cell_type": "code",
   "execution_count": 33,
   "metadata": {},
   "outputs": [],
   "source": [
    "def known(words):    \n",
    "    return set(w for w in words if w in dictionary)"
   ]
  },
  {
   "cell_type": "markdown",
   "metadata": {},
   "source": [
    "La siguiente función es la encargada de generar sugerencias a partir de una palabra que le pasamos como parámetro, pero antes mencionaremos algo muy utilizado en la construcción de correctores ortográficos **modelo del error**.\n",
    "\n",
    "Un modelo del error basicamente es un modelo que nos dice con que frecuencia (o probabilidad) se comete un error determinado. Por ejemplo hay errores que son comunes en el español como cambio de `c` por `s` o `v` por `b` y viceversa, además de errores que pueden ocurrir por desconocimiento de algunas reglas ortográficas.\n",
    "\n",
    "En nuestro caso no tenemos datos sobre errores ortográficos para poder construir un modelo del error pero definiremos un modelo del error trivial que dice que todas las palabras conocidas de distancia de edición 1 son infinitamente más probables que las palabras conocidas de distancia de edición 2, e infinitamente menos probables que una palabra conocida de distancia de edición 0. Obteniendo el siguiente orden de prioridad:\n",
    "\n",
    "1. Palabra original, si se conoce.\n",
    "2. Lista de palabras conocidas con distancia de edición 1.\n",
    "3. Lista de palabras conocidas con distancia de edición 2.\n",
    "4. Palabra original, aunque no sea conocida."
   ]
  },
  {
   "cell_type": "code",
   "execution_count": 34,
   "metadata": {},
   "outputs": [],
   "source": [
    "def suggestions(word):    \n",
    "    word = word.lower()\n",
    "    \n",
    "    return (known([word]) or known(edits1(word)) or known(edits2(word)) or [word])"
   ]
  },
  {
   "cell_type": "markdown",
   "metadata": {},
   "source": [
    "Así hemos definido nuestra función para generar sugerencias."
   ]
  },
  {
   "cell_type": "code",
   "execution_count": 35,
   "metadata": {},
   "outputs": [
    {
     "data": {
      "text/plain": [
       "{'cambio'}"
      ]
     },
     "execution_count": 35,
     "metadata": {},
     "output_type": "execute_result"
    }
   ],
   "source": [
    "suggestions('canbio')"
   ]
  },
  {
   "cell_type": "code",
   "execution_count": 36,
   "metadata": {},
   "outputs": [
    {
     "data": {
      "text/plain": [
       "{'caza', 'raza'}"
      ]
     },
     "execution_count": 36,
     "metadata": {},
     "output_type": "execute_result"
    }
   ],
   "source": [
    "suggestions('kaza')"
   ]
  },
  {
   "cell_type": "markdown",
   "metadata": {},
   "source": [
    "### Calculo de probabilidades"
   ]
  },
  {
   "cell_type": "markdown",
   "metadata": {},
   "source": [
    "Las siguientes funciones son funciones auxiliares utilizadas para obtner la probabilidad de ocurrencia de un trigrama, primeramente se busca el trigrama en el modelo y en caso de que no exista se le asigna la probabilidad mínima."
   ]
  },
  {
   "cell_type": "code",
   "execution_count": 37,
   "metadata": {},
   "outputs": [],
   "source": [
    "def P_Word(trigram):\n",
    "    n_2, n_1, n = trigram\n",
    "    \n",
    "    try:\n",
    "        return word_model[(n_2, n_1)][n]\n",
    "    except:\n",
    "        return word_min"
   ]
  },
  {
   "cell_type": "code",
   "execution_count": 38,
   "metadata": {},
   "outputs": [],
   "source": [
    "def P_Tag(trigram):\n",
    "    n_2, n_1, n = trigram\n",
    "    \n",
    "    try:\n",
    "        return tag_model[(n_2, n_1)][n]\n",
    "    except:\n",
    "        return tag_min"
   ]
  },
  {
   "cell_type": "markdown",
   "metadata": {},
   "source": [
    "### Obteniendo sugerencias de trigramas"
   ]
  },
  {
   "cell_type": "code",
   "execution_count": 39,
   "metadata": {},
   "outputs": [],
   "source": [
    "def getsugg(trigrams):\n",
    "    \n",
    "    trigramlist = []\n",
    "    \n",
    "    # Recorrer lista de trigramas extrayendo cada trigrama\n",
    "    for t in trigrams:\n",
    "        # Extracción de las palabras de cada trigrama\n",
    "        w1, w2, w3 = t\n",
    "        \n",
    "        # Generación de sugerencias para cada palabra del trigrama\n",
    "        w1s = suggestions(w1)\n",
    "        w2s = suggestions(w2)\n",
    "        w3s = suggestions(w3)\n",
    "        \n",
    "        sugglist = []\n",
    "        \n",
    "        # Se crean nuevos trigramas con todas las posibles combinaciones \n",
    "        # de palabras que han sido sugeridas\n",
    "        # Se almacenan los trigramas en una lista de sugerencias con la \n",
    "        # probabilidad de ocurrencia del trigrama\n",
    "        for i in w1s:\n",
    "            for ii in w2s:\n",
    "                for iii in w3s:\n",
    "                    w_1, w_2, w_3 = nlp(i + ' ' + ii + ' ' + iii)\n",
    "                    ptag = P_Tag((w_1.tag_, w_2.tag_, w_3.tag_))\n",
    "                    pword = P_Word((i, ii, iii))\n",
    "                    \n",
    "                    sugglist.append({(i,ii,iii): (pword*ptag)})\n",
    "                    \n",
    "        trigramlist.append(sugglist)\n",
    "                \n",
    "    return trigramlist"
   ]
  },
  {
   "cell_type": "markdown",
   "metadata": {},
   "source": [
    "La función anterior lo que hace es generarnos sugerencias pero esta vez para toda una lista de trigramas obtenemos sugerencias para cada uno de los trigramas y vamos calculando la probabilidad de ocurrencia de cada uno de estos trigramas. Esta información será enviada a la función definida a continuación que será la encargada de obtener de la lista de sugerencias para un trigrama la sugerencia con mayor probabilidad y así conformar una nueva lista con las sugerencias más probales."
   ]
  },
  {
   "cell_type": "code",
   "execution_count": 40,
   "metadata": {},
   "outputs": [],
   "source": [
    "def gettermax(tsugg):\n",
    "    maxlist = []\n",
    "    \n",
    "    for s in tsugg:\n",
    "        maxlist.append(max(s, key = lambda x : max(x.values()) ))\n",
    "        \n",
    "    return maxlist"
   ]
  },
  {
   "cell_type": "markdown",
   "metadata": {},
   "source": [
    "Y finalmente implementamos una función a la cuál le enviaremos el texto que deseamos corregir y nos devolverá el texto con las correcciones realizadas."
   ]
  },
  {
   "cell_type": "code",
   "execution_count": 41,
   "metadata": {},
   "outputs": [],
   "source": [
    "def get_correction(text):\n",
    "    \n",
    "    # Preprocesamos el texto de entrada\n",
    "    text = preclean_text(text)\n",
    "    \n",
    "    # El texto se analiza con spaCy\n",
    "    doctest = nlp(text)\n",
    "    \n",
    "    # Obtenemos trigramas del texto   \n",
    "    trigramas_tests = get_word_trigrams(doctest.sents)\n",
    "    \n",
    "    # Obtenemos las sugerencias para los trigramas\n",
    "    ss = getsugg(trigramas_tests)\n",
    "    \n",
    "    # Seleccionamos las sugerencias con mayor probabilidad\n",
    "    common = gettermax(ss)\n",
    "    \n",
    "    # Construcción del texto corregido\n",
    "    \n",
    "    # Se selecciona el primer trigrama\n",
    "    w1, w2, w3 = [k for k in common[0].keys()][0]\n",
    "    ttfinal = [w1, w2, w3]\n",
    "\n",
    "    # Se van recorriendo los trigramas restantes y haciendo merge (mezcla)\n",
    "    # Se hace merge entre los trigramas buscando obtener la mayor probabilidad\n",
    "    for i in range(1, len(common)):\n",
    "        w1, w2, w3  = [k for k in common[i].keys()][0]\n",
    "    \n",
    "        ttfinal.append(w3)\n",
    "    \n",
    "        if [v for v in common[i].values()][0] > [v for v in common[i-1].values()][0]:\n",
    "            ttfinal[i] = w1\n",
    "            ttfinal[i+1] = w2\n",
    "    \n",
    "    # Transformar la lista de palabras en una cadena de texto\n",
    "    result = ''\n",
    "    last_w = ''\n",
    "    \n",
    "    for w in ttfinal:\n",
    "        if last_w == '_':\n",
    "            result += w.capitalize() + ' '\n",
    "        else:\n",
    "            result += w + ' '\n",
    "            \n",
    "        last_w = w\n",
    "            \n",
    "    # Limpieza del resultado final\n",
    "    \n",
    "    result = result.replace('. _ _ ', '.')\n",
    "    result = result.replace(' .', '. ')\n",
    "    result = result.replace(' :', ': ')\n",
    "    result = result.replace(' ,', ', ')\n",
    "    result = result.replace(' ;', '; ')\n",
    "    result = result.replace('¿ ', '¿')\n",
    "    result = result.replace('¡ ', '¡')\n",
    "    result = result.replace(' ?', '?')\n",
    "    result = result.replace(' !', '!')\n",
    "    result = result.replace('_ _ ', ' ')\n",
    "    result = result.replace('  ', ' ')\n",
    "    \n",
    "    return result"
   ]
  },
  {
   "cell_type": "markdown",
   "metadata": {},
   "source": [
    "En la función anterior incluimos algunos comentarios para tratar de explicar lo que va realizando, sin embargo es difícil ver esto sin conocer exactamente cuáles son las salidas de las funciones que generan las sugerencias de trigramas y cuál es el objetivo que se persigue con realizar la implemetación de esta forma.\n",
    "\n",
    "Vamos a mostrar un pequeño test de nuestro corrector ya funcionando para luego comenzar a descomponer las funciones anteriores e ir explicando todo el código."
   ]
  },
  {
   "cell_type": "code",
   "execution_count": 42,
   "metadata": {},
   "outputs": [
    {
     "name": "stdout",
     "output_type": "stream",
     "text": [
      "CPU times: user 3 µs, sys: 0 ns, total: 3 µs\n",
      "Wall time: 6.91 µs\n"
     ]
    }
   ],
   "source": [
    "%%time\n",
    "test_text = \"\"\"\n",
    "Hay canbio de planes.\n",
    "La probinsia orienttal.\n",
    "El intrnet de las cosas.\n",
    "La onra del artizta.\n",
    "Para unrar a su amigo.\n",
    "El camno del merkado.\n",
    "La defenza de nuestros ideales.\n",
    "Tod0 está en saver conbibir.\n",
    "4lgunos alg0r1tmos pu3d3n s3r muy interes4nt3s.\n",
    "\"\"\""
   ]
  },
  {
   "cell_type": "code",
   "execution_count": 43,
   "metadata": {},
   "outputs": [
    {
     "name": "stdout",
     "output_type": "stream",
     "text": [
      "CPU times: user 3.82 s, sys: 216 µs, total: 3.82 s\n",
      "Wall time: 4.15 s\n"
     ]
    }
   ],
   "source": [
    "%%time\n",
    "aa = get_correction(test_text)"
   ]
  },
  {
   "cell_type": "code",
   "execution_count": 44,
   "metadata": {},
   "outputs": [
    {
     "data": {
      "text/plain": [
       "' Hay cambio de planes. La provincia oriental. El internet de las cosas. La obra del artista. Para curar a su amigo. El camino del mercado. La defensa de nuestros ideales. Todo está en saber convivir. Algunos algorítmos pueden ser muy interesantes. '"
      ]
     },
     "execution_count": 44,
     "metadata": {},
     "output_type": "execute_result"
    }
   ],
   "source": [
    "aa"
   ]
  },
  {
   "cell_type": "markdown",
   "metadata": {},
   "source": [
    "Como se puede apreciar nuestro corrector es capaz de detectar cuáles son las palabras que no pertenecen al lenguaje y por tanto están escritas de manera incorrecta y generar una corrección para estas."
   ]
  },
  {
   "cell_type": "markdown",
   "metadata": {},
   "source": [
    "### Proceso de corrección paso a paso."
   ]
  },
  {
   "cell_type": "markdown",
   "metadata": {},
   "source": [
    "Primeramente tenemos un texto con varios errores ortográficos."
   ]
  },
  {
   "cell_type": "code",
   "execution_count": 45,
   "metadata": {},
   "outputs": [
    {
     "name": "stdout",
     "output_type": "stream",
     "text": [
      "CPU times: user 4 µs, sys: 1e+03 ns, total: 5 µs\n",
      "Wall time: 7.39 µs\n"
     ]
    }
   ],
   "source": [
    "%%time\n",
    "test_text = \"\"\"\n",
    "Hay canbio de planes.\n",
    "La probinsia orienttal.\n",
    "El intrnet de las cosas.\n",
    "La onra del artizta.\n",
    "Para unrar a su amigo.\n",
    "El camno del merkado.\n",
    "La defenza de nuestros ideales.\n",
    "Tod0 está en saver conbibir.\n",
    "4lgunos alg0r1tmos pu3d3n s3r muy interes4nt3s.\n",
    "\"\"\""
   ]
  },
  {
   "cell_type": "markdown",
   "metadata": {},
   "source": [
    "Lo primero que haremos será preprocesar este texto"
   ]
  },
  {
   "cell_type": "code",
   "execution_count": 46,
   "metadata": {},
   "outputs": [],
   "source": [
    "# Preprocesamos el texto de entrada\n",
    "text_cleaned = preclean_text(test_text)"
   ]
  },
  {
   "cell_type": "code",
   "execution_count": 47,
   "metadata": {},
   "outputs": [
    {
     "data": {
      "text/plain": [
       "'_ _ Hay canbio de planes. _ _ La probinsia orienttal. _ _ El intrnet de las cosas. _ _ La onra del artizta. _ _ Para unrar a su amigo. _ _ El camno del merkado. _ _ La defenza de nuestros ideales. _ _ Tod0 está en saver conbibir. _ _ 4lgunos alg0r1tmos pu3d3n s3r muy interes4nt3s. _ _ '"
      ]
     },
     "execution_count": 47,
     "metadata": {},
     "output_type": "execute_result"
    }
   ],
   "source": [
    "text_cleaned"
   ]
  },
  {
   "cell_type": "markdown",
   "metadata": {},
   "source": [
    "Como se puede observar hemos aplicado el mismo preprocesamiento que hemos empleado con nuestro CORPUS. El siguiente paso es etiquetar morfologicamente el texto."
   ]
  },
  {
   "cell_type": "code",
   "execution_count": 48,
   "metadata": {},
   "outputs": [],
   "source": [
    "# El texto se analiza con spaCy\n",
    "doctest = nlp(text_cleaned)"
   ]
  },
  {
   "cell_type": "markdown",
   "metadata": {},
   "source": [
    "Con esto tenemos en `doctest` el texto etiquetado de la misma manera que habíamos hecho con el CORPUS. Realmente el objetivo que perseguimos con esto no es obtener las etiquetas morfológicas sino separar el texto por oraciones para así llamar a una función similar a la que hemos empleado con el CORPUS para obtener los trigramas."
   ]
  },
  {
   "cell_type": "code",
   "execution_count": 49,
   "metadata": {},
   "outputs": [],
   "source": [
    "# Obtenemos trigramas del texto   \n",
    "trigramas_tests = get_word_trigrams(doctest.sents)"
   ]
  },
  {
   "cell_type": "code",
   "execution_count": 50,
   "metadata": {},
   "outputs": [
    {
     "data": {
      "text/plain": [
       "[('_', '_', 'Hay'),\n",
       " ('_', 'Hay', 'canbio'),\n",
       " ('Hay', 'canbio', 'de'),\n",
       " ('canbio', 'de', 'planes'),\n",
       " ('de', 'planes', '.'),\n",
       " ('planes', '.', '_'),\n",
       " ('.', '_', '_'),\n",
       " ('_', '_', 'La'),\n",
       " ('_', 'La', 'probinsia'),\n",
       " ('La', 'probinsia', 'orienttal'),\n",
       " ('probinsia', 'orienttal', '.'),\n",
       " ('orienttal', '.', '_'),\n",
       " ('.', '_', '_'),\n",
       " ('_', '_', 'El'),\n",
       " ('_', 'El', 'intrnet'),\n",
       " ('El', 'intrnet', 'de'),\n",
       " ('intrnet', 'de', 'las'),\n",
       " ('de', 'las', 'cosas'),\n",
       " ('las', 'cosas', '.'),\n",
       " ('cosas', '.', '_')]"
      ]
     },
     "execution_count": 50,
     "metadata": {},
     "output_type": "execute_result"
    }
   ],
   "source": [
    "trigramas_tests[:20] # Primeros 20 trigramas"
   ]
  },
  {
   "cell_type": "markdown",
   "metadata": {},
   "source": [
    "Ahora pasaremos a obtener sugerencias para cada uno de los trigramas"
   ]
  },
  {
   "cell_type": "code",
   "execution_count": 51,
   "metadata": {},
   "outputs": [],
   "source": [
    "# Obtenemos las sugerencias para los trigramas\n",
    "ss = getsugg(trigramas_tests)"
   ]
  },
  {
   "cell_type": "markdown",
   "metadata": {},
   "source": [
    "Ahora veamos que nos devuelve esta función"
   ]
  },
  {
   "cell_type": "code",
   "execution_count": 52,
   "metadata": {},
   "outputs": [
    {
     "data": {
      "text/plain": [
       "[{('_', '_', 'hay'): 2.0213020985562646e-06}]"
      ]
     },
     "execution_count": 52,
     "metadata": {},
     "output_type": "execute_result"
    }
   ],
   "source": [
    "ss[0]"
   ]
  },
  {
   "cell_type": "code",
   "execution_count": 53,
   "metadata": {},
   "outputs": [
    {
     "data": {
      "text/plain": [
       "[{('_', 'hay', 'cambio'): 2.0648094118968534e-06}]"
      ]
     },
     "execution_count": 53,
     "metadata": {},
     "output_type": "execute_result"
    }
   ],
   "source": [
    "ss[1]"
   ]
  },
  {
   "cell_type": "code",
   "execution_count": 54,
   "metadata": {},
   "outputs": [
    {
     "data": {
      "text/plain": [
       "[{('hay', 'cambio', 'de'): 5.6493185509497916e-05}]"
      ]
     },
     "execution_count": 54,
     "metadata": {},
     "output_type": "execute_result"
    }
   ],
   "source": [
    "ss[2]"
   ]
  },
  {
   "cell_type": "code",
   "execution_count": 55,
   "metadata": {},
   "outputs": [
    {
     "data": {
      "text/plain": [
       "[{('_', 'la', 'ora'): 2.0777674533674086e-05},\n",
       " {('_', 'la', 'otra'): 1.1890012344448615e-08},\n",
       " {('_', 'la', 'onza'): 0.00011838442466860818},\n",
       " {('_', 'la', 'obra'): 0.00011838442466860818},\n",
       " {('_', 'la', 'onda'): 0.00011838442466860818},\n",
       " {('_', 'la', 'honra'): 0.00011838442466860818}]"
      ]
     },
     "execution_count": 55,
     "metadata": {},
     "output_type": "execute_result"
    }
   ],
   "source": [
    "ss[22]"
   ]
  },
  {
   "cell_type": "code",
   "execution_count": 56,
   "metadata": {},
   "outputs": [
    {
     "data": {
      "text/plain": [
       "[{('la', 'ora', 'del'): 9.256472069270826e-06},\n",
       " {('la', 'otra', 'del'): 1.1890012344448615e-08},\n",
       " {('la', 'onza', 'del'): 9.256472069270826e-06},\n",
       " {('la', 'obra', 'del'): 0.005617752898840464},\n",
       " {('la', 'onda', 'del'): 9.256472069270826e-06},\n",
       " {('la', 'honra', 'del'): 0.0031209738326891463}]"
      ]
     },
     "execution_count": 56,
     "metadata": {},
     "output_type": "execute_result"
    }
   ],
   "source": [
    "ss[23]"
   ]
  },
  {
   "cell_type": "code",
   "execution_count": 57,
   "metadata": {},
   "outputs": [
    {
     "data": {
      "text/plain": [
       "[{('ora', 'del', 'artista'): 9.711500455954945e-07},\n",
       " {('otra', 'del', 'artista'): 1.1890012344448615e-08},\n",
       " {('onza', 'del', 'artista'): 5.003192036519299e-06},\n",
       " {('obra', 'del', 'artista'): 5.003192036519299e-06},\n",
       " {('onda', 'del', 'artista'): 5.003192036519299e-06},\n",
       " {('honra', 'del', 'artista'): 5.003192036519299e-06}]"
      ]
     },
     "execution_count": 57,
     "metadata": {},
     "output_type": "execute_result"
    }
   ],
   "source": [
    "ss[24]"
   ]
  },
  {
   "cell_type": "markdown",
   "metadata": {},
   "source": [
    "Como podemos apreciar cada elemento de esta lista es otra lista de sugerencias para el trigrama correspondiente donde además cada sugerencia contiene su probabilidad de ocurrencia. Para algunos trigramas solo se obtiene una sugerencia como en el caso de los tres primeros mostrados y para otros obtenemos más de una sugerencia, ahora lo que queremos hacer es quedarnos con los trigramas que mayor probabilidad tienen de esas listas de sugerencias."
   ]
  },
  {
   "cell_type": "code",
   "execution_count": 58,
   "metadata": {},
   "outputs": [],
   "source": [
    "# Seleccionamos las sugerencias con mayor probabilidad\n",
    "common = gettermax(ss)"
   ]
  },
  {
   "cell_type": "code",
   "execution_count": 59,
   "metadata": {},
   "outputs": [
    {
     "data": {
      "text/plain": [
       "[{('_', '_', 'hay'): 2.0213020985562646e-06},\n",
       " {('_', 'hay', 'cambio'): 2.0648094118968534e-06},\n",
       " {('hay', 'cambio', 'de'): 5.6493185509497916e-05},\n",
       " {('cambio', 'de', 'planes'): 5.846244687802072e-06},\n",
       " {('de', 'planes', '.'): 1.034360362439871e-05},\n",
       " {('planes', '.', '_'): 0.0001643128167209863},\n",
       " {('.', '_', '_'): 0.9983241159711748},\n",
       " {('_', '_', 'la'): 1.3435713949226937e-06},\n",
       " {('_', 'la', 'provincia'): 0.00011838442466860818},\n",
       " {('la', 'provincia', 'oriental'): 0.0016873250699720114},\n",
       " {('provincia', 'oriental', '.'): 1.4255065894042094e-05},\n",
       " {('oriental', '.', '_'): 1.0},\n",
       " {('.', '_', '_'): 0.9983241159711748},\n",
       " {('_', '_', 'el'): 2.758482863912079e-06},\n",
       " {('_', 'el', 'internet'): 2.4035808294188173e-05},\n",
       " {('el', 'internet', 'de'): 4.501590667600826e-05},\n",
       " {('internet', 'de', 'las'): 3.5758041849123655e-06},\n",
       " {('de', 'las', 'cosas'): 0.008718583499273451},\n",
       " {('las', 'cosas', '.'): 0.0016480498077275224},\n",
       " {('cosas', '.', '_'): 1.0},\n",
       " {('.', '_', '_'): 0.9983241159711748},\n",
       " {('_', '_', 'la'): 1.3435713949226937e-06},\n",
       " {('_', 'la', 'onza'): 0.00011838442466860818},\n",
       " {('la', 'obra', 'del'): 0.005617752898840464},\n",
       " {('onza', 'del', 'artista'): 5.003192036519299e-06},\n",
       " {('del', 'artista', '.'): 2.5745592354588893e-06},\n",
       " {('artista', '.', '_'): 0.00016477179106936892},\n",
       " {('.', '_', '_'): 0.9983241159711748},\n",
       " {('_', '_', 'para'): 2.0415151195418273e-05},\n",
       " {('_', 'para', 'entrar'): 1.0062882573470196e-05},\n",
       " {('para', 'una', 'a'): 7.097861769142046e-05},\n",
       " {('curar', 'a', 'su'): 0.042544139544777704},\n",
       " {('a', 'su', 'amigo'): 0.005436864535282757},\n",
       " {('su', 'amigo', '.'): 0.002932551319648094},\n",
       " {('amigo', '.', '_'): 0.9962025316455696},\n",
       " {('.', '_', '_'): 0.9983241159711748},\n",
       " {('_', '_', 'el'): 2.758482863912079e-06},\n",
       " {('_', 'el', 'camino'): 0.00010531479160479817},\n",
       " {('el', 'camino', 'del'): 0.003409298920007322},\n",
       " {('camino', 'del', 'mercado'): 8.557623773078842e-05},\n",
       " {('del', 'mercado', '.'): 1.1042906632515023e-05},\n",
       " {('mercado', '.', '_'): 0.00016414607540708018},\n",
       " {('.', '_', '_'): 0.9983241159711748},\n",
       " {('_', '_', 'la'): 1.3435713949226937e-06},\n",
       " {('_', 'la', 'defensa'): 1.9328069333650314e-06},\n",
       " {('la', 'defensa', 'de'): 0.09999999999999999},\n",
       " {('defensa', 'de', 'nuestros'): 1.1890012344448615e-08},\n",
       " {('de', 'nuestros', 'ideales'): 0.00011204481792717087},\n",
       " {('nuestros', 'ideales', '.'): 1.647717910693689e-05},\n",
       " {('ideales', '.', '_'): 0.0001643128167209863},\n",
       " {('.', '_', '_'): 0.9983241159711748},\n",
       " {('_', '_', 'toda'): 2.3780024688897232e-07},\n",
       " {('_', 'todo', 'está'): 4.453291650523484e-06},\n",
       " {('todo', 'está', 'en'): 3.661595357097087e-05},\n",
       " {('está', 'en', 'saber'): 6.646591572121886e-05},\n",
       " {('en', 'saber', 'convivir'): 1.5734176335536554e-05},\n",
       " {('saber', 'convivir', '.'): 3.8319021178923006e-06},\n",
       " {('convivir', '.', '_'): 0.0001619790488478542},\n",
       " {('.', '_', '_'): 0.9983241159711748},\n",
       " {('_', '_', 'algunos'): 1.0701011110003755e-07},\n",
       " {('_', 'algunos', 'algorítmos'): 7.002801120448179e-05},\n",
       " {('algunos', 'algorítmos', 'pueden'): 1.1983402986863193e-06},\n",
       " {('algorítmos', 'pueden', 'ser'): 7.216048491845865e-05},\n",
       " {('pueden', 'ser', 'muy'): 0.022727272727272728},\n",
       " {('ser', 'muy', 'interesantes'): 0.0020833333333333333},\n",
       " {('muy', 'interesantes', '.'): 0.09523809523809523},\n",
       " {('interesantes', '.', '_'): 1.0},\n",
       " {('.', '_', '_'): 0.9983241159711748},\n",
       " {('_', '_', '_'): 8.553674880596335e-05},\n",
       " {('_', '_', '_'): 8.553674880596335e-05}]"
      ]
     },
     "execution_count": 59,
     "metadata": {},
     "output_type": "execute_result"
    }
   ],
   "source": [
    "common"
   ]
  },
  {
   "cell_type": "markdown",
   "metadata": {},
   "source": [
    "Y aquí podemos observar la lista de trigramas con las posibles correcciones. Ahora lo que deseamos es construir una lista de palabras que se utilizará para construir luego el texto final, esto lo haremos haciendo merge (mezcla) entre los trigramas segun vayan apareciendo. \n",
    "\n",
    "El algortimo sería el siguiente:\n",
    "\n",
    "0. Tenemos una lista vacía donde iremos agregando las palabras\n",
    "\n",
    "1. Las palabras del primer trigrama se agregan directamente a la lista.\n",
    "\n",
    "2. Para todos los trigramas siguientes:\n",
    "\n",
    "    2.1 Se agrega la última palabra del trigrama a la lista.\n",
    "    \n",
    "    2.2 Si la probabilidad de ocurrencia del trigrama actual es mayor que la probabilidad del anterior:\n",
    "        \n",
    "        2.2.2 Se sustituyen las dos ultimas palabras agregadas por el trigrama anterior por las dos primeras palabras del trigrama actual."
   ]
  },
  {
   "cell_type": "code",
   "execution_count": 60,
   "metadata": {},
   "outputs": [],
   "source": [
    "# Se selecciona el primer trigrama\n",
    "w1, w2, w3 = [k for k in common[0].keys()][0]\n",
    "ttfinal = [w1, w2, w3]\n",
    "\n",
    "# Se van recorriendo los trigramas restantes y haciendo merge (mezcla)\n",
    "# Se hace merge entre los trigramas buscando obtener la mayor probabilidad\n",
    "for i in range(1, len(common)):\n",
    "    w1, w2, w3  = [k for k in common[i].keys()][0]\n",
    "    \n",
    "    ttfinal.append(w3)\n",
    "    \n",
    "    if [v for v in common[i].values()][0] > [v for v in common[i-1].values()][0]:\n",
    "        ttfinal[i] = w1\n",
    "        ttfinal[i+1] = w2"
   ]
  },
  {
   "cell_type": "code",
   "execution_count": 61,
   "metadata": {},
   "outputs": [
    {
     "name": "stdout",
     "output_type": "stream",
     "text": [
      "['_', '_', 'hay', 'cambio', 'de', 'planes', '.', '_', '_', 'la', 'provincia', 'oriental', '.', '_', '_', 'el', 'internet', 'de', 'las', 'cosas', '.', '_', '_', 'la', 'obra', 'del', 'artista', '.', '_', '_', 'para', 'curar', 'a', 'su', 'amigo', '.', '_', '_', 'el', 'camino', 'del', 'mercado', '.', '_', '_', 'la', 'defensa', 'de', 'nuestros', 'ideales', '.', '_', '_', 'todo', 'está', 'en', 'saber', 'convivir', '.', '_', '_', 'algunos', 'algorítmos', 'pueden', 'ser', 'muy', 'interesantes', '.', '_', '_', '_', '_']\n"
     ]
    }
   ],
   "source": [
    "print(ttfinal)"
   ]
  },
  {
   "cell_type": "markdown",
   "metadata": {},
   "source": [
    "Con esto ya tenemos nuestro texto corregido solo es cuestión de trasnformar esta lista de palabras en un texto pero primero aclaremos estas instrucciones que han sido utilizadas para hacer la sustitución de las palabras en el paso `2.2.2` del algoritmo descrito para hacer el *merge*.\n",
    "\n",
    "```python\n",
    "ttfinal[i] = w1\n",
    "ttfinal[i+1] = w2\n",
    "```\n",
    "\n",
    "Recordemos que inicialmente habíamos agregado tres palabras a la lista que son las tres palabras del primer trigrama, por lo tanto nuestra lista como mínimo tendría tres palabras `len(ttfinal) = 3`. Ahora supongamos que nos encontramos analizando el segundo trigrama por tanto `i = 1` y que el segundo trigrama tiene mayor probabilidad que el primero, por lo que corresponde hacer la sustitución. Si ttfinal solamente tiene las tres palabras del trigrama anterior ¿Cómo obtenemos la segunda palabra del trigrama anterior? `ttfinal[1]` pero sabemos que `i = 1` por tanto `ttfinal[1] == ttfinal[i]` y para obtener la tercera palabra sería `ttfinal[2]` o lo que es lo mismo la siguiente palabra a `ttfinal[i]` que sería `ttfinal[i+1]`. \n",
    "\n",
    "A medida que se continúa el recorrido por la lista de trigramas siempre que se debe hacer una sustitución podemos obtener la segunda palabra del trigrama anterior `ttfinal[i]` y la siguiente palabra (la tercera) `ttfinal[i+1]`"
   ]
  },
  {
   "cell_type": "markdown",
   "metadata": {},
   "source": [
    "Y finalmente sólo nos queda convertir esta lista en una cadena y eliminar el caracter auxiliar `_` además nos valemos de este caracter auxiliar para saber cuando corresponde colocar una letra mayúscula indicando el inicio de una oración."
   ]
  },
  {
   "cell_type": "code",
   "execution_count": 62,
   "metadata": {},
   "outputs": [
    {
     "data": {
      "text/plain": [
       "' Hay cambio de planes. La provincia oriental. El internet de las cosas. La obra del artista. Para curar a su amigo. El camino del mercado. La defensa de nuestros ideales. Todo está en saber convivir. Algunos algorítmos pueden ser muy interesantes. '"
      ]
     },
     "execution_count": 62,
     "metadata": {},
     "output_type": "execute_result"
    }
   ],
   "source": [
    "# Transformar la lista de palabras en una cadena de texto\n",
    "result = ''\n",
    "last_w = ''\n",
    "    \n",
    "for w in ttfinal:\n",
    "    if last_w == '_':\n",
    "        result += w.capitalize() + ' '\n",
    "    else:\n",
    "        result += w + ' '\n",
    "            \n",
    "    last_w = w\n",
    "            \n",
    "# Limpieza del resultado final\n",
    "    \n",
    "result = result.replace('. _ _ ', '.')\n",
    "result = result.replace(' .', '. ')\n",
    "result = result.replace(' :', ': ')\n",
    "result = result.replace(' ,', ', ')\n",
    "result = result.replace(' ;', '; ')\n",
    "result = result.replace('¿ ', '¿')\n",
    "result = result.replace('¡ ', '¡')\n",
    "result = result.replace(' ?', '?')\n",
    "result = result.replace(' !', '!')\n",
    "result = result.replace('_ _ ', ' ')\n",
    "result = result.replace('  ', ' ')\n",
    "    \n",
    "result"
   ]
  },
  {
   "cell_type": "markdown",
   "metadata": {},
   "source": [
    "Finalmente creo que podemos dar por concluida la tarea de implementar este **Corrector Ortográfico Estadístico**. Cuálquier duda o sugerencia por favor pueden dejarlas en los comentarios del post.\n",
    "\n",
    "Como nota final para quienes decidan copiar el código y probarlo en sus PC's debo señalar que la tarea del etiquetado morfológico consume una buena cantidad de memoria RAM llegando a tener ocupados casi 4GB de memoria, acá al final les dejaré las propiedades la PC en la que hice las pruebas y si ven que no tienen recursos suficientes para correr el código en sus PC's pues les recomiendo utilizar Google Colab."
   ]
  },
  {
   "cell_type": "code",
   "execution_count": 63,
   "metadata": {},
   "outputs": [
    {
     "name": "stdout",
     "output_type": "stream",
     "text": [
      "\u001b[?25l\u001b[?7l\u001b[0m\u001b[32m\u001b[1m██████████████████  ████████\n",
      "██████████████████  ████████\n",
      "██████████████████  ████████\n",
      "██████████████████  ████████\n",
      "████████            ████████\n",
      "████████  ████████  ████████\n",
      "████████  ████████  ████████\n",
      "████████  ████████  ████████\n",
      "████████  ████████  ████████\n",
      "████████  ████████  ████████\n",
      "████████  ████████  ████████\n",
      "████████  ████████  ████████\n",
      "████████  ████████  ████████\n",
      "████████  ████████  ████████\u001b[0m\n",
      "\u001b[14A\u001b[9999999D\u001b[31C\u001b[0m\u001b[1m\u001b[32m\u001b[1mragnar\u001b[0m@\u001b[32m\u001b[1mDSTATION\u001b[0m \n",
      "\u001b[31C\u001b[0m---------------\u001b[0m \n",
      "\u001b[31C\u001b[0m\u001b[32m\u001b[1mOS\u001b[0m\u001b[0m:\u001b[0m Manjaro Linux x86_64\u001b[0m \n",
      "\u001b[31C\u001b[0m\u001b[32m\u001b[1mHost\u001b[0m\u001b[0m:\u001b[0m Inspiron 5566\u001b[0m \n",
      "\u001b[31C\u001b[0m\u001b[32m\u001b[1mKernel\u001b[0m\u001b[0m:\u001b[0m 5.4.24-1-MANJARO\u001b[0m \n",
      "\u001b[31C\u001b[0m\u001b[32m\u001b[1mUptime\u001b[0m\u001b[0m:\u001b[0m 7 hours, 14 mins\u001b[0m \n",
      "\u001b[31C\u001b[0m\u001b[32m\u001b[1mPackages\u001b[0m\u001b[0m:\u001b[0m 1505 (pacman)\u001b[0m \n",
      "\u001b[31C\u001b[0m\u001b[32m\u001b[1mShell\u001b[0m\u001b[0m:\u001b[0m bash 5.0.16\u001b[0m \n",
      "\u001b[31C\u001b[0m\u001b[32m\u001b[1mTerminal\u001b[0m\u001b[0m:\u001b[0m /dev/pts/1\u001b[0m \n",
      "\u001b[31C\u001b[0m\u001b[32m\u001b[1mCPU\u001b[0m\u001b[0m:\u001b[0m Intel i3-7100U (4) @ 2.400GHz\u001b[0m \n",
      "\u001b[31C\u001b[0m\u001b[32m\u001b[1mGPU\u001b[0m\u001b[0m:\u001b[0m Intel HD Graphics 620\u001b[0m \n",
      "\u001b[31C\u001b[0m\u001b[32m\u001b[1mMemory\u001b[0m\u001b[0m:\u001b[0m 3632MiB / 7862MiB\u001b[0m \n",
      "\n",
      "\u001b[31C\u001b[30m\u001b[40m   \u001b[31m\u001b[41m   \u001b[32m\u001b[42m   \u001b[33m\u001b[43m   \u001b[34m\u001b[44m   \u001b[35m\u001b[45m   \u001b[36m\u001b[46m   \u001b[37m\u001b[47m   \u001b[0m\n",
      "\u001b[31C\u001b[38;5;8m\u001b[48;5;8m   \u001b[38;5;9m\u001b[48;5;9m   \u001b[38;5;10m\u001b[48;5;10m   \u001b[38;5;11m\u001b[48;5;11m   \u001b[38;5;12m\u001b[48;5;12m   \u001b[38;5;13m\u001b[48;5;13m   \u001b[38;5;14m\u001b[48;5;14m   \u001b[38;5;15m\u001b[48;5;15m   \u001b[0m\n",
      "\n",
      "\n",
      "\u001b[?25h\u001b[?7h"
     ]
    }
   ],
   "source": [
    "!neofetch"
   ]
  },
  {
   "cell_type": "markdown",
   "metadata": {},
   "source": [
    "Además todo el código relacionado con este proyecto está disponible en Github:"
   ]
  }
 ],
 "metadata": {
  "kernelspec": {
   "display_name": "Python 3",
   "language": "python",
   "name": "python3"
  },
  "language_info": {
   "codemirror_mode": {
    "name": "ipython",
    "version": 3
   },
   "file_extension": ".py",
   "mimetype": "text/x-python",
   "name": "python",
   "nbconvert_exporter": "python",
   "pygments_lexer": "ipython3",
   "version": "3.7.4"
  }
 },
 "nbformat": 4,
 "nbformat_minor": 4
}
