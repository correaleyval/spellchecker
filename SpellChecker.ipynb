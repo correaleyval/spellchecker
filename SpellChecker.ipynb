{
 "cells": [
  {
   "cell_type": "code",
   "execution_count": 1,
   "metadata": {},
   "outputs": [
    {
     "name": "stdout",
     "output_type": "stream",
     "text": [
      "CPU times: user 573 ms, sys: 72.8 ms, total: 645 ms\n",
      "Wall time: 645 ms\n"
     ]
    }
   ],
   "source": [
    "%%time\n",
    "import spacy\n",
    "from spacy.tokens import Doc\n",
    "from spacy.vocab import Vocab"
   ]
  },
  {
   "cell_type": "code",
   "execution_count": 2,
   "metadata": {},
   "outputs": [],
   "source": [
    "def preclean_text(text):\n",
    "    text = text.replace('\\n', '')\n",
    "    text = '_ _ ' + text.replace('.', '. _ _ ')\n",
    "    text = text.replace('  ', ' ')\n",
    "    \n",
    "    return text"
   ]
  },
  {
   "cell_type": "code",
   "execution_count": 3,
   "metadata": {},
   "outputs": [
    {
     "name": "stdout",
     "output_type": "stream",
     "text": [
      "CPU times: user 20.8 ms, sys: 13.4 ms, total: 34.2 ms\n",
      "Wall time: 34 ms\n"
     ]
    },
    {
     "data": {
      "text/plain": [
       "'_ _ La moral es un sistema de control para la integración grupal, un decálogo explicativo impuesto para asemejar a los “buenos” y excluir a los “malos”. _ _ Suele ser muy mala con los individuos que quieren ser diferentes y genuinos, la más mínima desobediencia despierta su ira. _ _ Su definición del “bien” y del “mal” es ad hoc, dependiendo de los rasgos culturales del grupo y de la religión que lo funda. _ _ La ética es una liberación de la moral para interrogar libre y sensatamente qué ha de ser universalmente celebrado en la existencia. _ _ La ética no explica nada, interroga desde la sed de universalidad, y crea personas autónomas, capaces de crear nuevas maneras de coexistir, sin imposición. _ _ Desde luego, la ética es un acontecimiento escaso, improbable y frágil. _ _ Es para los desobedientes, como Jesús, Gandhi, Mandela. _ _ La moral detesta la ética. _ _ La ética mira a la moral con tristeza, le da pena su dogmatismo y su violencia familiar. _ _ Del mismo modo, las religione'"
      ]
     },
     "execution_count": 3,
     "metadata": {},
     "output_type": "execute_result"
    }
   ],
   "source": [
    "%%time\n",
    "textcorpus = ''\n",
    "\n",
    "for i in range(1, 203):\n",
    "    textcorpus += (open('CORPUS/{}.txt'.format(i)).read().split('Contenido:')[-1])\n",
    "    \n",
    "textcorpus = preclean_text(textcorpus)\n",
    "\n",
    "textcorpus[:1000]"
   ]
  },
  {
   "cell_type": "code",
   "execution_count": 4,
   "metadata": {},
   "outputs": [
    {
     "name": "stdout",
     "output_type": "stream",
     "text": [
      "CPU times: user 16.8 s, sys: 626 ms, total: 17.4 s\n",
      "Wall time: 17.5 s\n"
     ]
    }
   ],
   "source": [
    "%%time\n",
    "nlp = spacy.load('es_core_news_md')\n",
    "nlp.max_length = 2000000"
   ]
  },
  {
   "cell_type": "code",
   "execution_count": 5,
   "metadata": {},
   "outputs": [
    {
     "name": "stdout",
     "output_type": "stream",
     "text": [
      "CPU times: user 51.9 s, sys: 11.4 s, total: 1min 3s\n",
      "Wall time: 55.5 s\n"
     ]
    }
   ],
   "source": [
    "%%time\n",
    "doc = nlp(textcorpus)\n",
    "doc.vocab.to_disk('corpus_vocab')\n",
    "doc.to_disk('corpus_doc')\n",
    "del doc"
   ]
  },
  {
   "cell_type": "code",
   "execution_count": 6,
   "metadata": {},
   "outputs": [
    {
     "name": "stdout",
     "output_type": "stream",
     "text": [
      "CPU times: user 12.5 s, sys: 703 ms, total: 13.2 s\n",
      "Wall time: 13.2 s\n"
     ]
    }
   ],
   "source": [
    "%%time\n",
    "vocab = Vocab().from_disk('corpus_vocab')\n",
    "doc = Doc(vocab).from_disk('corpus_doc')"
   ]
  },
  {
   "cell_type": "code",
   "execution_count": 7,
   "metadata": {},
   "outputs": [],
   "source": [
    "offset = doc[0]"
   ]
  },
  {
   "cell_type": "code",
   "execution_count": 8,
   "metadata": {},
   "outputs": [
    {
     "data": {
      "text/plain": [
       "_ _ La moral es un sistema de control para la integración grupal, un decálogo explicativo impuesto para asemejar a los “buenos” y excluir a los “malos”."
      ]
     },
     "execution_count": 8,
     "metadata": {},
     "output_type": "execute_result"
    }
   ],
   "source": [
    "[sent for sent in doc.sents][0]"
   ]
  },
  {
   "cell_type": "code",
   "execution_count": 9,
   "metadata": {},
   "outputs": [],
   "source": [
    "def get_trigrams(sentences):\n",
    "    # Lista para almacenar los trigramas\n",
    "    trigrams = []\n",
    "    tag_trigrams = []\n",
    "    \n",
    "    # Recorrer la lista de palabras\n",
    "    for sent in sentences:\n",
    "        for i, _ in enumerate(sent):\n",
    "            try:\n",
    "                w1, w2, w3 = sent[i:i+3]\n",
    "            except:\n",
    "                try:\n",
    "                    w1, w2 = sent[i:i+2]\n",
    "                    w3 = offset\n",
    "                except:\n",
    "                    w1 = sent[i]\n",
    "                    w2 = w3 = offset\n",
    "            \n",
    "            # Agregar trigrama a la lista\n",
    "            trigrams.append((w1.text, w2.text, w3.text))\n",
    "            \n",
    "            tag_trigrams.append((\n",
    "                w1.tag_,\n",
    "                w2.tag_,\n",
    "                w3.tag_\n",
    "            ))\n",
    "    \n",
    "    return trigrams, tag_trigrams"
   ]
  },
  {
   "cell_type": "code",
   "execution_count": 10,
   "metadata": {},
   "outputs": [],
   "source": [
    "def get_word_trigrams(sentences):\n",
    "    # Lista para almacenar los trigramas\n",
    "    trigrams = []\n",
    "    \n",
    "    # Recorrer la lista de palabras\n",
    "    for sent in sentences:\n",
    "        for i, _ in enumerate(sent):\n",
    "            try:\n",
    "                w1, w2, w3 = sent[i:i+3]\n",
    "            except:\n",
    "                try:\n",
    "                    w1, w2 = sent[i:i+2]\n",
    "                    w3 = offset\n",
    "                except:\n",
    "                    w1 = sent[i]\n",
    "                    w2 = w3 = offset\n",
    "            \n",
    "            # Agregar trigrama a la lista\n",
    "            trigrams.append((w1.text, w2.text, w3.text))\n",
    "    \n",
    "    return trigrams"
   ]
  },
  {
   "cell_type": "code",
   "execution_count": 11,
   "metadata": {},
   "outputs": [
    {
     "name": "stdout",
     "output_type": "stream",
     "text": [
      "CPU times: user 2.4 s, sys: 90.2 ms, total: 2.49 s\n",
      "Wall time: 2.49 s\n"
     ]
    }
   ],
   "source": [
    "%%time\n",
    "word_trigrams, tag_trigrams = get_trigrams(doc.sents)"
   ]
  },
  {
   "cell_type": "code",
   "execution_count": 12,
   "metadata": {},
   "outputs": [
    {
     "data": {
      "text/plain": [
       "[('_', '_', 'La'),\n",
       " ('_', 'La', 'moral'),\n",
       " ('La', 'moral', 'es'),\n",
       " ('moral', 'es', 'un'),\n",
       " ('es', 'un', 'sistema'),\n",
       " ('un', 'sistema', 'de'),\n",
       " ('sistema', 'de', 'control'),\n",
       " ('de', 'control', 'para'),\n",
       " ('control', 'para', 'la'),\n",
       " ('para', 'la', 'integración')]"
      ]
     },
     "execution_count": 12,
     "metadata": {},
     "output_type": "execute_result"
    }
   ],
   "source": [
    "word_trigrams[:10]"
   ]
  },
  {
   "cell_type": "code",
   "execution_count": 13,
   "metadata": {},
   "outputs": [
    {
     "data": {
      "text/plain": [
       "[('PROPN___',\n",
       "  'PROPN___',\n",
       "  'DET__Definite=Def|Gender=Fem|Number=Sing|PronType=Art'),\n",
       " ('PROPN___',\n",
       "  'DET__Definite=Def|Gender=Fem|Number=Sing|PronType=Art',\n",
       "  'NOUN__Gender=Fem|Number=Sing'),\n",
       " ('DET__Definite=Def|Gender=Fem|Number=Sing|PronType=Art',\n",
       "  'NOUN__Gender=Fem|Number=Sing',\n",
       "  'AUX__Mood=Ind|Number=Sing|Person=3|Tense=Pres|VerbForm=Fin'),\n",
       " ('NOUN__Gender=Fem|Number=Sing',\n",
       "  'AUX__Mood=Ind|Number=Sing|Person=3|Tense=Pres|VerbForm=Fin',\n",
       "  'DET__Definite=Ind|Gender=Masc|Number=Sing|PronType=Art'),\n",
       " ('AUX__Mood=Ind|Number=Sing|Person=3|Tense=Pres|VerbForm=Fin',\n",
       "  'DET__Definite=Ind|Gender=Masc|Number=Sing|PronType=Art',\n",
       "  'NOUN__Gender=Masc|Number=Sing'),\n",
       " ('DET__Definite=Ind|Gender=Masc|Number=Sing|PronType=Art',\n",
       "  'NOUN__Gender=Masc|Number=Sing',\n",
       "  'ADP__AdpType=Prep'),\n",
       " ('NOUN__Gender=Masc|Number=Sing',\n",
       "  'ADP__AdpType=Prep',\n",
       "  'NOUN__Gender=Masc|Number=Sing'),\n",
       " ('ADP__AdpType=Prep', 'NOUN__Gender=Masc|Number=Sing', 'ADP__AdpType=Prep'),\n",
       " ('NOUN__Gender=Masc|Number=Sing',\n",
       "  'ADP__AdpType=Prep',\n",
       "  'DET__Definite=Def|Gender=Fem|Number=Sing|PronType=Art'),\n",
       " ('ADP__AdpType=Prep',\n",
       "  'DET__Definite=Def|Gender=Fem|Number=Sing|PronType=Art',\n",
       "  'NOUN__Gender=Fem|Number=Sing')]"
      ]
     },
     "execution_count": 13,
     "metadata": {},
     "output_type": "execute_result"
    }
   ],
   "source": [
    "tag_trigrams[:10]"
   ]
  },
  {
   "cell_type": "code",
   "execution_count": 14,
   "metadata": {},
   "outputs": [],
   "source": [
    "def build_model(trigrams):\n",
    "    model = {}\n",
    "    \n",
    "    # Contamos la frecuencia de co-ocurrencia\n",
    "    for i, _ in enumerate(trigrams):\n",
    "        w1, w2, w3 = trigrams[i]\n",
    "    \n",
    "        # El control de excepciones se encarga de manejar los distintos casos \n",
    "        # en que un trigrama aún no ha sido registrado.\n",
    "        try:\n",
    "            model[w1, w2][w3] += 1\n",
    "        except: # Aqui se asume que w3 lanza la excepcion\n",
    "            try:\n",
    "                model[w1, w2][w3] = 1\n",
    "            except: # Aqui se asume que el par (w1, w2) lanza la excepcion\n",
    "                model[w1, w2] = {w3:1}\n",
    "            \n",
    "    # Ahora transformamos el conteo en probabilidades\n",
    "    for w1_w2 in model:\n",
    "        total_count = float(sum(model[w1_w2].values()))\n",
    "    \n",
    "        for w3 in model[w1_w2]:\n",
    "            model[w1_w2][w3] /= total_count\n",
    "            \n",
    "    return model"
   ]
  },
  {
   "cell_type": "code",
   "execution_count": 15,
   "metadata": {},
   "outputs": [
    {
     "name": "stdout",
     "output_type": "stream",
     "text": [
      "CPU times: user 483 ms, sys: 33.4 ms, total: 517 ms\n",
      "Wall time: 517 ms\n"
     ]
    }
   ],
   "source": [
    "%%time\n",
    "word_model = build_model(word_trigrams)"
   ]
  },
  {
   "cell_type": "code",
   "execution_count": 16,
   "metadata": {},
   "outputs": [
    {
     "name": "stdout",
     "output_type": "stream",
     "text": [
      "CPU times: user 286 ms, sys: 9.67 ms, total: 296 ms\n",
      "Wall time: 296 ms\n"
     ]
    }
   ],
   "source": [
    "%%time\n",
    "tag_model = build_model(tag_trigrams)"
   ]
  },
  {
   "cell_type": "code",
   "execution_count": 17,
   "metadata": {},
   "outputs": [
    {
     "data": {
      "text/plain": [
       "126530"
      ]
     },
     "execution_count": 17,
     "metadata": {},
     "output_type": "execute_result"
    }
   ],
   "source": [
    "len(word_model)"
   ]
  },
  {
   "cell_type": "code",
   "execution_count": 18,
   "metadata": {},
   "outputs": [
    {
     "data": {
      "text/plain": [
       "9064"
      ]
     },
     "execution_count": 18,
     "metadata": {},
     "output_type": "execute_result"
    }
   ],
   "source": [
    "len(tag_model)"
   ]
  },
  {
   "cell_type": "code",
   "execution_count": 19,
   "metadata": {},
   "outputs": [
    {
     "name": "stdout",
     "output_type": "stream",
     "text": [
      "CPU times: user 39.1 ms, sys: 3.19 ms, total: 42.3 ms\n",
      "Wall time: 42.1 ms\n"
     ]
    },
    {
     "data": {
      "text/plain": [
       "0.00016477179106936892"
      ]
     },
     "execution_count": 19,
     "metadata": {},
     "output_type": "execute_result"
    }
   ],
   "source": [
    "%%time\n",
    "word_min = 1\n",
    "\n",
    "for i in word_model.values():\n",
    "    for ii in i.values():\n",
    "        if ii < word_min:\n",
    "            word_min = ii\n",
    "            \n",
    "word_min"
   ]
  },
  {
   "cell_type": "code",
   "execution_count": 20,
   "metadata": {},
   "outputs": [
    {
     "name": "stdout",
     "output_type": "stream",
     "text": [
      "CPU times: user 6.81 ms, sys: 25 µs, total: 6.84 ms\n",
      "Wall time: 6.71 ms\n"
     ]
    },
    {
     "data": {
      "text/plain": [
       "7.216048491845865e-05"
      ]
     },
     "execution_count": 20,
     "metadata": {},
     "output_type": "execute_result"
    }
   ],
   "source": [
    "%%time\n",
    "tag_min = 1\n",
    "\n",
    "for i in tag_model.values():\n",
    "    for ii in i.values():\n",
    "        if ii < tag_min:\n",
    "            tag_min = ii\n",
    "            \n",
    "tag_min"
   ]
  },
  {
   "cell_type": "code",
   "execution_count": 21,
   "metadata": {},
   "outputs": [],
   "source": [
    "def edits1(word):\n",
    "    \"Distancia de edición 1\"\n",
    "    letters = 'abcdefghijklmnñopqrstuvwxyzáéíóú'\n",
    "    \n",
    "    splits = [(word[:i], word[i:]) for i in range(len(word) + 1)]\n",
    "    \n",
    "    deletes = [L + R[1:] for L, R in splits if R]\n",
    "    \n",
    "    transposes = [L + R[1] + R[0] + R[2:] for L, R in splits if len(R)>1]\n",
    "    \n",
    "    replaces = [L +  C + R[1:] for L, R in splits if R for C in letters]\n",
    "    \n",
    "    inserts = [L + C + R for L, R in splits for C in letters]\n",
    "    \n",
    "    return set(deletes + transposes + replaces + inserts)"
   ]
  },
  {
   "cell_type": "code",
   "execution_count": 22,
   "metadata": {},
   "outputs": [],
   "source": [
    "def edits2(word):\n",
    "    return (e2 for e1 in edits1(word) for e2 in edits1(e1))"
   ]
  },
  {
   "cell_type": "code",
   "execution_count": 23,
   "metadata": {},
   "outputs": [],
   "source": [
    "def get_dictionary():\n",
    "    return set([w.text for w in doc])"
   ]
  },
  {
   "cell_type": "code",
   "execution_count": 24,
   "metadata": {},
   "outputs": [
    {
     "name": "stdout",
     "output_type": "stream",
     "text": [
      "CPU times: user 329 ms, sys: 9.94 ms, total: 339 ms\n",
      "Wall time: 339 ms\n"
     ]
    }
   ],
   "source": [
    "%%time\n",
    "dictionary = get_dictionary()"
   ]
  },
  {
   "cell_type": "code",
   "execution_count": 25,
   "metadata": {},
   "outputs": [
    {
     "data": {
      "text/plain": [
       "26465"
      ]
     },
     "execution_count": 25,
     "metadata": {},
     "output_type": "execute_result"
    }
   ],
   "source": [
    "len(dictionary)"
   ]
  },
  {
   "cell_type": "code",
   "execution_count": 26,
   "metadata": {},
   "outputs": [],
   "source": [
    "def known(words):    \n",
    "    return set(w for w in words if w in dictionary)"
   ]
  },
  {
   "cell_type": "code",
   "execution_count": 27,
   "metadata": {},
   "outputs": [],
   "source": [
    "def suggestions(word):    \n",
    "    word = word.lower()\n",
    "    \n",
    "    return (known([word]) or known(edits1(word)) or known(edits2(word)) or [word])"
   ]
  },
  {
   "cell_type": "markdown",
   "metadata": {},
   "source": [
    "### Probability"
   ]
  },
  {
   "cell_type": "code",
   "execution_count": 28,
   "metadata": {},
   "outputs": [],
   "source": [
    "def P_Word(trigram):\n",
    "    n_2, n_1, n = trigram\n",
    "    \n",
    "    try:\n",
    "        return word_model[(n_2, n_1)][n]\n",
    "    except:\n",
    "        return word_min"
   ]
  },
  {
   "cell_type": "code",
   "execution_count": 29,
   "metadata": {},
   "outputs": [],
   "source": [
    "def P_Tag(trigram):\n",
    "    n_2, n_1, n = trigram\n",
    "    \n",
    "    try:\n",
    "        return tag_model[(n_2, n_1)][n]\n",
    "    except:\n",
    "        return tag_min"
   ]
  },
  {
   "cell_type": "code",
   "execution_count": 30,
   "metadata": {},
   "outputs": [],
   "source": [
    "def getsugg(trigrams):\n",
    "    \n",
    "    trigramlist = []\n",
    "    \n",
    "    for t in trigrams:\n",
    "        w1, w2, w3 = t\n",
    "        \n",
    "        w1s = suggestions(w1)\n",
    "        w2s = suggestions(w2)\n",
    "        w3s = suggestions(w3)\n",
    "        \n",
    "        sugglist = []\n",
    "        \n",
    "        for i in w1s:\n",
    "            for ii in w2s:\n",
    "                for iii in w3s:\n",
    "                    w_1, w_2, w_3 = nlp(i + ' ' + ii + ' ' + iii)\n",
    "                    ptag = P_Tag((w_1.tag_, w_2.tag_, w_3.tag_))\n",
    "                    pword = P_Word((i, ii, iii))\n",
    "                    \n",
    "                    sugglist.append({(i,ii,iii): (pword*ptag)})\n",
    "                    \n",
    "        trigramlist.append(sugglist)\n",
    "                \n",
    "    return trigramlist"
   ]
  },
  {
   "cell_type": "code",
   "execution_count": 31,
   "metadata": {},
   "outputs": [],
   "source": [
    "def gettermax(tsugg):\n",
    "    maxlist = []\n",
    "    \n",
    "    for s in tsugg:\n",
    "        maxlist.append(max(s, key = lambda x : max(x.values()) ))\n",
    "        \n",
    "    return maxlist"
   ]
  },
  {
   "cell_type": "code",
   "execution_count": 32,
   "metadata": {},
   "outputs": [],
   "source": [
    "def get_correction(text):\n",
    "    \n",
    "    text = preclean_text(text)\n",
    "    \n",
    "    doctest = nlp(text)\n",
    "    trigramas_tests = get_word_trigrams(doctest.sents)\n",
    "    \n",
    "    ss = getsugg(trigramas_tests)\n",
    "    \n",
    "    common = gettermax(ss)\n",
    "    \n",
    "    w1, w2, w3 = [k for k in common[0].keys()][0]\n",
    "    ttfinal = [w1, w2, w3]\n",
    "\n",
    "    for i in range(1, len(common)):\n",
    "        w1, w2, w3  = [k for k in common[i].keys()][0]\n",
    "    \n",
    "        ttfinal.append(w3)\n",
    "    \n",
    "        if [v for v in common[i].values()][0] > [v for v in common[i-1].values()][0]:\n",
    "            ttfinal[i] = w1\n",
    "            ttfinal[i+1] = w2\n",
    "    \n",
    "    result = ''\n",
    "    last_w = ''\n",
    "    \n",
    "    for w in ttfinal:\n",
    "        if last_w == '_':\n",
    "            result += w.capitalize() + ' '\n",
    "        else:\n",
    "            result += w + ' '\n",
    "            \n",
    "        last_w = w\n",
    "            \n",
    "    result = result.replace('. _ _ ', '.')\n",
    "    result = result.replace(' .', '. ')\n",
    "    result = result.replace(' :', ': ')\n",
    "    result = result.replace(' ,', ', ')\n",
    "    result = result.replace(' ;', '; ')\n",
    "    result = result.replace('¿ ', '¿')\n",
    "    result = result.replace('¡ ', '¡')\n",
    "    result = result.replace(' ?', '?')\n",
    "    result = result.replace(' !', '!')\n",
    "    result = result.replace('_ _ ', ' ')\n",
    "    result = result.replace('  ', ' ')\n",
    "    \n",
    "    return result"
   ]
  },
  {
   "cell_type": "code",
   "execution_count": 33,
   "metadata": {},
   "outputs": [
    {
     "name": "stdout",
     "output_type": "stream",
     "text": [
      "CPU times: user 5 µs, sys: 1e+03 ns, total: 6 µs\n",
      "Wall time: 9.3 µs\n"
     ]
    }
   ],
   "source": [
    "%%time\n",
    "test_text = \"\"\"\n",
    "Hay canbio de planes.\n",
    "La probinsia orienttal.\n",
    "El intrnet de las cosas.\n",
    "La onra del artizta.\n",
    "Para unrar a su amigo.\n",
    "El camno del merkado.\n",
    "La defenza de nuestros ideales.\n",
    "Tod0 está en saver conbibir.\n",
    "4lgunos alg0r1tmos pu3d3n s3r muy interes4nt3s.\n",
    "\"\"\""
   ]
  },
  {
   "cell_type": "code",
   "execution_count": 34,
   "metadata": {},
   "outputs": [
    {
     "name": "stdout",
     "output_type": "stream",
     "text": [
      "CPU times: user 4.06 s, sys: 0 ns, total: 4.06 s\n",
      "Wall time: 4.09 s\n"
     ]
    }
   ],
   "source": [
    "%%time\n",
    "aa = get_correction(test_text)"
   ]
  },
  {
   "cell_type": "code",
   "execution_count": 35,
   "metadata": {},
   "outputs": [
    {
     "data": {
      "text/plain": [
       "' Hay cambio de planes. La provincia oriental. El internet de las cosas. La obra del artista. Para curar a su amigo. El camino del mercado. La defensa de nuestros ideales. Todo está en saber convivir. Algunos algorítmos pueden ser muy interesantes. '"
      ]
     },
     "execution_count": 35,
     "metadata": {},
     "output_type": "execute_result"
    }
   ],
   "source": [
    "aa"
   ]
  }
 ],
 "metadata": {
  "kernelspec": {
   "display_name": "Python 3",
   "language": "python",
   "name": "python3"
  },
  "language_info": {
   "codemirror_mode": {
    "name": "ipython",
    "version": 3
   },
   "file_extension": ".py",
   "mimetype": "text/x-python",
   "name": "python",
   "nbconvert_exporter": "python",
   "pygments_lexer": "ipython3",
   "version": "3.7.4"
  }
 },
 "nbformat": 4,
 "nbformat_minor": 4
}
